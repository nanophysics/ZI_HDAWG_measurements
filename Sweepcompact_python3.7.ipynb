{
 "cells": [
  {
   "cell_type": "code",
   "execution_count": 1,
   "metadata": {},
   "outputs": [],
   "source": [
    "import numpy as np\n",
    "import zhinst.ziPython as zi\n",
    "import time\n",
    "import textwrap\n",
    "import matplotlib.pyplot as plt\n",
    "import matplotlib as mpl\n",
    "import matplotlib.cm as cm\n",
    "\n",
    "import sys\n",
    "# sys.path.insert(0,'C:\\Program Files\\Labber\\Script')\n",
    "import Labber\n",
    "\n",
    "# multimeter_config\n",
    "multimeter_config_dict = {\n",
    "    'Function': 'Voltage DC',\n",
    "    'Auto-zero': False,\n",
    "    'Integration time (V_dc)': '20 ms',\n",
    "    'Auto-range (V_dc)': 'Off',\n",
    "    'Range (V_dc)': '10 V',\n",
    "    'Input impedance': '10 MOhm'\n",
    "}\n",
    "\n",
    "def set_compact_dc_voltages(compact,compact_dict):\n",
    "    for gate, gate_conf in compact_dict.items():\n",
    "        compact_dac = gate_conf['key']\n",
    "        ampli = gate_conf['amplification']\n",
    "        value = gate_conf['value'] * ampli\n",
    "        sweep_rate = gate_conf['sweep_rate']\n",
    "        print(gate, compact_dac, ampli, value, sweep_rate)\n",
    "        compact.setValue(compact_dac, value, rate=sweep_rate, wait_for_sweep=True)\n",
    "        "
   ]
  },
  {
   "cell_type": "code",
   "execution_count": 21,
   "metadata": {},
   "outputs": [],
   "source": [
    "client = Labber.connectToServer('localhost',timeout=120)\n",
    "\n",
    "i_sd_dc_d_meter = client.connectToInstrument('Agilent 34401 Multimeter', dict(interface='GPIB', address='21'))\n",
    "compact = client.connectToInstrument('compact_2012 Voltage Source', dict(interface='Other', address='20200918_77'))\n",
    "\n",
    "# set conf for multimeters\n",
    "for key, value in multimeter_config_dict.items():\n",
    "    i_sd_dc_d_meter.setValue(key, value)"
   ]
  },
  {
   "cell_type": "code",
   "execution_count": 22,
   "metadata": {},
   "outputs": [
    {
     "data": {
      "text/plain": [
       "{'DA1-jumper setting': '+/- 10 V, change by hand',\n",
       " 'DA1-voltage': 0.75,\n",
       " 'DA1-voltage - Sweep rate': 0.0,\n",
       " 'DA2-jumper setting': '+/- 10 V, change by hand',\n",
       " 'DA2-voltage': 0.0,\n",
       " 'DA2-voltage - Sweep rate': 0.0,\n",
       " 'DA3-jumper setting': '+/- 10 V, change by hand',\n",
       " 'DA3-voltage': 0.0,\n",
       " 'DA3-voltage - Sweep rate': 0.5,\n",
       " 'DA4-jumper setting': '+/- 10 V, change by hand',\n",
       " 'DA4-voltage': 0.1,\n",
       " 'DA4-voltage - Sweep rate': 0.1,\n",
       " 'DA5-jumper setting': '+/- 10 V, change by hand',\n",
       " 'DA5-voltage': 4.5,\n",
       " 'DA5-voltage - Sweep rate': 0.25,\n",
       " 'DA6-jumper setting': '+/- 10 V, change by hand',\n",
       " 'DA6-voltage': 6.5162499999999905,\n",
       " 'DA6-voltage - Sweep rate': 0.25,\n",
       " 'DA7-jumper setting': '+/- 10 V, change by hand',\n",
       " 'DA7-voltage': 6.802500000000011,\n",
       " 'DA7-voltage - Sweep rate': 0.25,\n",
       " 'DA8-jumper setting': '+/- 10 V, change by hand',\n",
       " 'DA8-voltage': 0.0,\n",
       " 'DA8-voltage - Sweep rate': 0.5,\n",
       " 'DA9-jumper setting': '+/- 10 V, change by hand',\n",
       " 'DA9-voltage': 7.554999999999989,\n",
       " 'DA9-voltage - Sweep rate': 0.25,\n",
       " 'DA10-jumper setting': '+/- 10 V, change by hand',\n",
       " 'DA10-voltage': 0.0,\n",
       " 'DA10-voltage - Sweep rate': 0.5,\n",
       " 'Green LED': False,\n",
       " 'particle velocity': 0.0,\n",
       " 'percent FS': 0.0,\n",
       " 'red LED threshold percent FS': 10.0}"
      ]
     },
     "execution_count": 22,
     "metadata": {},
     "output_type": "execute_result"
    }
   ],
   "source": [
    "compact.getInstrConfig()"
   ]
  },
  {
   "cell_type": "code",
   "execution_count": 26,
   "metadata": {},
   "outputs": [
    {
     "name": "stdout",
     "output_type": "stream",
     "text": [
      "FG_test DA4-voltage 1 0.1 0.1\n"
     ]
    }
   ],
   "source": [
    "compact_dict = {\n",
    "    'FG_test':{'key': 'DA4-voltage', 'amplification': 1, 'value': 0.1, 'sweep_rate':0.1},\n",
    "}\n",
    "\n",
    "set_compact_dc_voltages(compact,compact_dict)\n",
    "\n",
    "\n",
    "v_FGtest_list = np.arange(0.870, 0.970, 0.5e-3)\n",
    "amp1 = 0\n",
    "\n",
    "# Initialize a 2D array to store the results\n",
    "results = np.zeros(len(v_FGtest_list))\n",
    "\n",
    "compact_dac = compact_dict['FG_test']['key']\n",
    "sweep_rate = compact_dict['FG_test']['sweep_rate']\n",
    "\n",
    "iv_gain=1\n",
    "for i, v_FGtest in enumerate(v_FGtest_list):\n",
    "    compact.setValue(compact_dac, v_FGtest, rate=sweep_rate, wait_for_sweep=True)\n",
    "    i_sd_dc_d = i_sd_dc_d_meter.getValue('Voltage') / iv_gain\n",
    "    results[i] = i_sd_dc_d\n"
   ]
  },
  {
   "cell_type": "code",
   "execution_count": null,
   "metadata": {},
   "outputs": [],
   "source": [
    "# Some useful helpfunctions\n",
    "\n",
    "instruments = client.getListOfInstrumentsString()\n",
    "for instr in instruments:\n",
    "    print(instr)\n",
    "\n",
    "\n",
    "client.getListOfInstruments()[0]\n",
    "\n",
    "instruments.ldQuant"
   ]
  }
 ],
 "metadata": {
  "kernelspec": {
   "display_name": "base",
   "language": "python",
   "name": "python3"
  },
  "language_info": {
   "codemirror_mode": {
    "name": "ipython",
    "version": 3
   },
   "file_extension": ".py",
   "mimetype": "text/x-python",
   "name": "python",
   "nbconvert_exporter": "python",
   "pygments_lexer": "ipython3",
   "version": "3.7.11"
  },
  "orig_nbformat": 4
 },
 "nbformat": 4,
 "nbformat_minor": 2
}
