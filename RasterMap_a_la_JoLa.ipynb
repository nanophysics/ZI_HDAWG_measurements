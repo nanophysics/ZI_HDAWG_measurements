{
 "cells": [
  {
   "cell_type": "markdown",
   "metadata": {},
   "source": [
    "#### This Code is designed to simultaneously sweep FG4 and FG6, in order to change the amplitude when switching between the (0,2) and (1,1) state. "
   ]
  },
  {
   "cell_type": "markdown",
   "metadata": {},
   "source": [
    "# General Imports"
   ]
  },
  {
   "cell_type": "code",
   "execution_count": 30,
   "metadata": {},
   "outputs": [
    {
     "name": "stdout",
     "output_type": "stream",
     "text": [
      "2.11.0\n"
     ]
    }
   ],
   "source": [
    "%config IPCompleter.greedy=True\n",
    "\n",
    "# import matplotlib.pyplot as plt\n",
    "import numpy as np\n",
    "import time\n",
    "import zhinst.core\n",
    "import laboneq\n",
    "from laboneq.simple import *\n",
    "import ctypes\n",
    "import helpers\n",
    "import matplotlib.pyplot as plt\n",
    "from picosdk.ps5000a import ps5000a as ps\n",
    "from picosdk.functions import adc2mV, assert_pico_ok, mV2adc\n",
    "import picoscope_module as pm\n",
    "#install_token(\"LabOneQ.AllQuantumInOne.\")\n",
    "DO_EMULATION = False # run in emulation mode by default\n",
    "\n",
    "print(laboneq.__version__)"
   ]
  },
  {
   "cell_type": "markdown",
   "metadata": {},
   "source": [
    "# Sampling card setup"
   ]
  },
  {
   "cell_type": "markdown",
   "metadata": {},
   "source": [
    "## Device Setup\n",
    "\n",
    "Picoscope and HDAWG"
   ]
  },
  {
   "cell_type": "code",
   "execution_count": 31,
   "metadata": {},
   "outputs": [
    {
     "name": "stdout",
     "output_type": "stream",
     "text": [
      "3483\n"
     ]
    },
    {
     "data": {
      "text/plain": [
       "{'maximumValue': 0,\n",
       " 'setTriggerChannelPropertiesV2': 0,\n",
       " 'setTriggerChannelConditionsV2': 0,\n",
       " 'setTriggerChannelDirections': 0}"
      ]
     },
     "execution_count": 31,
     "metadata": {},
     "output_type": "execute_result"
    }
   ],
   "source": [
    "timebase = 900 #628 for TwoLevelPulse\n",
    "pico_sampling_rate = (timebase - 3) / 62500000\n",
    "preTriggerSamples = 0 #10 for TwoLevelPulse \n",
    "postTriggerSamples = int(50e-3/pico_sampling_rate) #or int(np.ceil(20e-3/pico_sampling_rate))\n",
    "print(postTriggerSamples)\n",
    "TriggerLevel=1\n",
    "\n",
    "maxSamples = preTriggerSamples + postTriggerSamples\n",
    "ready = ctypes.c_int16(0)\n",
    "check = ctypes.c_int16(0)\n",
    "maxADC = ctypes.c_int16() #what's the difference between having no handle and a handle of 0 \n",
    "\n",
    "chandle, status = pm.initialize_picoscope()\n",
    "chARange, chBRange, status = pm.setup_channels(chandle)\n",
    "# find maximum ADC count value\n",
    "\n",
    "pm.setup_trigger(chandle, chARange, chBRange, maxADC, TriggerLevel)\n",
    "\n",
    "# Get timebase information"
   ]
  },
  {
   "cell_type": "markdown",
   "metadata": {},
   "source": [
    "Only run, if you want to disconnect the scope and plan on running the previous cell again "
   ]
  },
  {
   "cell_type": "code",
   "execution_count": 32,
   "metadata": {},
   "outputs": [],
   "source": [
    "# Stop the scope\n",
    "#status[\"stop\"] = ps.ps5000aStop(chandle)\n",
    "#assert_pico_ok(status[\"stop\"])\n",
    "\n",
    "# Close unit Disconnect the scope\n",
    "#status[\"close\"]=ps.ps5000aCloseUnit(chandle)\n",
    "#assert_pico_ok(status[\"close\"])"
   ]
  },
  {
   "cell_type": "markdown",
   "metadata": {},
   "source": [
    "## Create device setup -HDAWG"
   ]
  },
  {
   "cell_type": "code",
   "execution_count": 33,
   "metadata": {},
   "outputs": [],
   "source": [
    "descriptor=\"\"\"\n",
    "instrument_list:\n",
    "  HDAWG:\n",
    "  - address: DEV8721\n",
    "    uid: device_hdawg\n",
    "    interface: usb\n",
    "connections:\n",
    "  device_hdawg:\n",
    "    - rf_signal: q0/fg8_line\n",
    "      ports: [SIGOUTS/0]\n",
    "    - rf_signal: q0/fg9_line\n",
    "      ports: [SIGOUTS/1]\n",
    "\"\"\"\n",
    "#Change back to to SIGOUTS/2 and SIGOUTS/3\n",
    "#And change fg8 and fg9\n",
    "device_setup = DeviceSetup.from_descriptor(\n",
    "    descriptor,\n",
    "    server_host=\"127.0.0.1\",\n",
    "    server_port=\"8004\",\n",
    "    setup_name=\"ZI_HDAWG\",\n",
    ")"
   ]
  },
  {
   "cell_type": "markdown",
   "metadata": {},
   "source": [
    "## Define parameters for experiment"
   ]
  },
  {
   "cell_type": "code",
   "execution_count": 34,
   "metadata": {},
   "outputs": [
    {
     "name": "stdout",
     "output_type": "stream",
     "text": [
      "{'pulse_time': 6.103515625e-06, 'trigger_time': 1.220703125e-07, 'wait_time': 1.220703125e-07}\n"
     ]
    }
   ],
   "source": [
    "# Wister's Hack, make sure to change sampling rate when running PulseTimeResolved code \n",
    "\n",
    "sampling_index = 13 # sampling rate is 2.4GHz/2^13, which is the minumium sampling rate HDAWG can go\n",
    "daq = zhinst.core.ziDAQServer('127.0.0.1', 8004, 6) # Connect to awg with zhinst driver\n",
    "daq.setInt('/dev8721/awgs/0/time', sampling_index)\n",
    "\n",
    "sampling_rate= 1/2**sampling_index\n",
    "\n",
    "times_map = {'pulse_time': 50e-3,\n",
    "             'trigger_time': 1e-3,\n",
    "             'wait_time': 1e-3} # The time needs to be larger than the ...\n",
    "\n",
    "for key in times_map:\n",
    "    times_map[key] /= 2**sampling_index\n",
    "print(times_map)"
   ]
  },
  {
   "cell_type": "code",
   "execution_count": 35,
   "metadata": {},
   "outputs": [],
   "source": [
    "#Will use this for the second version\n",
    "START = -0.1; STOP = 0.1; STEPS = 50\n",
    "\n",
    "## define length sweep parameter\n",
    "level_sweep_parameter = LinearSweepParameter(uid=\"JoJo\", start=START, stop=STOP, count=STEPS)\n",
    "#level_sweep_parameter_2 = LinearSweepParameter(uid=\"LaLa\", start=START, stop=STOP, count=STEPS)\n",
    "#we might even be able to reference the same sweep if they're the same values "
   ]
  },
  {
   "cell_type": "markdown",
   "metadata": {},
   "source": [
    "#### Define pulse shapes\n",
    "@pulse_library.register_pulse_functional\n"
   ]
  },
  {
   "cell_type": "code",
   "execution_count": 36,
   "metadata": {},
   "outputs": [],
   "source": [
    "level_pulse = pulse_library.const(uid=\"step_level\",length=times_map['pulse_time'],amplitude=1)\n",
    "compress_level_pulse = pulse_library.const(uid=\"compress_step_level\",length=times_map['pulse_time'],amplitude=1,can_compress=True)\n",
    "\n",
    "#we have to change some step size bc when i compress it, we have pulses of varying size"
   ]
  },
  {
   "cell_type": "code",
   "execution_count": 37,
   "metadata": {},
   "outputs": [],
   "source": [
    "## Create Experiment\n",
    "exp = Experiment(\n",
    "    signals=[\n",
    "        ExperimentSignal(\"gate3\"), #or 1 and 2 \n",
    "        ExperimentSignal(\"gate4\"),\n",
    "    ],\n",
    ")\n",
    "\n",
    "# define experiment\n",
    "NUM_REP = 1\n",
    "AmplitudeZigZag = [0.005, -0.005, 0.006, -0.006, 0.007, -0.007, 0.008, -0.008, 0.009, -0.009 ,0.01,-0.01]\n",
    "\n",
    "with exp.acquire_loop_rt(\n",
    "    uid=(\"sweep\"), count=NUM_REP, averaging_mode=AveragingMode.SEQUENTIAL #changed uid to sweep \n",
    "):\n",
    "    with exp.sweep(uid='sweep_rabi',parameter=level_sweep_parameter): #parameter=[level_sweep_parameter, level_sweep_parameter_2]): \n",
    "        with exp.section(\n",
    "            uid=\"between_trigger\", \n",
    "            length=times_map['trigger_time'],\n",
    "            alignment=SectionAlignment.LEFT):\n",
    "            exp.reserve(signal=\"gate3\")\n",
    "        with exp.section(\n",
    "            uid=(\"level1\"),\n",
    "            length=times_map['pulse_time']*15,\n",
    "            trigger={\"gate3\": {\"state\": 1}},\n",
    "            alignment=SectionAlignment.LEFT,\n",
    "        ):\n",
    "            for i in range(len(AmplitudeZigZag)):\n",
    "                exp.play(signal=\"gate3\", pulse=level_pulse, amplitude = AmplitudeZigZag[i]) \n",
    "                exp.play(signal=\"gate4\", pulse=level_pulse, amplitude = AmplitudeZigZag[i])\n",
    "                exp.delay(signal=\"gate3\", time=times_map['wait_time'])\n",
    "                exp.delay(signal=\"gate4\", time=times_map['wait_time'])\n",
    "\n"
   ]
  },
  {
   "cell_type": "code",
   "execution_count": 38,
   "metadata": {},
   "outputs": [],
   "source": [
    "# shortcut to the logical signal group q0\n",
    "lsg = device_setup.logical_signal_groups[\"q0\"].logical_signals\n",
    "\n",
    "# define signal map\n",
    "map_signals = {\n",
    "    \"gate3\" : lsg[\"fg8_line\"],\n",
    "    \"gate4\" : lsg[\"fg9_line\"]\n",
    "}\n",
    "\n",
    "#Maybe we have to wait here???"
   ]
  },
  {
   "cell_type": "code",
   "execution_count": 39,
   "metadata": {},
   "outputs": [
    {
     "name": "stdout",
     "output_type": "stream",
     "text": [
      "2023.08.10 13:49:08.944 laboneq.controller.laboneq_logging INFO   Logging initialized from [Default inline config in laboneq.controller.laboneq_logging] logdir is c:\\Users\\B15measure2\\HDAWG\\laboneq_output\\log\n",
      "2023.08.10 13:49:08.947 laboneq.controller.controller  INFO   VERSION: laboneq 2.11.0\n",
      "2023.08.10 13:49:08.952 laboneq.controller.devices.device_collection INFO   Connecting to data server at 127.0.0.1:8004\n"
     ]
    },
    {
     "name": "stdout",
     "output_type": "stream",
     "text": [
      "2023.08.10 13:49:09.047 laboneq.controller.communication INFO   Connected to Zurich Instruments LabOne Data Server version 23.02 at 127.0.0.1:8004\n",
      "2023.08.10 13:49:09.529 laboneq.controller.devices.device_collection INFO   Configuring the device setup\n",
      "2023.08.10 13:49:09.711 laboneq.controller.devices.device_collection INFO   The device setup is configured\n",
      "Loaded exp\n",
      "2023.08.10 13:49:09.944 laboneq.compiler.workflow.compiler INFO   Starting LabOne Q Compiler run...\n",
      "2023.08.10 13:49:10.305 laboneq.compiler.scheduler.scheduler INFO   Schedule completed\n",
      "2023.08.10 13:49:10.748 laboneq.compiler.workflow.compiler INFO   Total seqC lines generated: 131\n",
      "2023.08.10 13:49:10.749 laboneq.compiler.workflow.compiler INFO   Total sample points generated: 351904\n",
      "2023.08.10 13:49:10.751 laboneq.compiler.workflow.compiler INFO   Finished LabOne Q Compiler run.\n",
      "2023.08.10 13:49:10.977 laboneq.controller.controller  INFO   Starting near-time execution...\n",
      "2023.08.10 13:49:13.090 laboneq.controller.controller  WARNING Stop conditions still not fulfilled after 1.000000 s, estimated execution time was 0.00 s. Continuing to the next step.\n",
      "2023.08.10 13:49:13.095 laboneq.controller.controller  INFO   Finished near-time execution.\n",
      "Running exp finished\n"
     ]
    },
    {
     "data": {
      "text/plain": [
       "{'GetValuesBulk': 0}"
      ]
     },
     "execution_count": 39,
     "metadata": {},
     "output_type": "execute_result"
    }
   ],
   "source": [
    "source = ps.PS5000A_CHANNEL[\"PS5000A_CHANNEL_B\"] #set the buffer\n",
    "noOfCaptures = NUM_REP#*STEPS #simply NUM_REP in 2 Level pulse \n",
    "status,timeIntervalns = pm.capture_rapid_data_block(chandle, preTriggerSamples, postTriggerSamples, timebase, maxSamples,noOfCaptures)\n",
    "\n",
    "\n",
    "# # create and connect to session\n",
    "session = Session(device_setup=device_setup)\n",
    "session.connect(do_emulation=DO_EMULATION)\n",
    "# set experiment calibration and signal map\n",
    "exp.set_signal_map(map_signals)\n",
    "\n",
    "\n",
    "if not session.connection_state.emulated:\n",
    "    instrument_serial = device_setup.instrument_by_uid(\"device_hdawg\").address\n",
    "    device = session.devices[instrument_serial]\n",
    "    device.triggers.out[2].delay(23.9e-9)\n",
    "print(\"Loaded exp\")\n",
    "session.run(exp)\n",
    "print(\"Running exp finished\")\n",
    "# Check for data collection to finish using ps5000aIsReady\n",
    "while ready.value == check.value:\n",
    "    status[\"isReady\"] = ps.ps5000aIsReady(chandle, ctypes.byref(ready))\n",
    "\n",
    "buffersMax, buffersMin = pm.create_rapid_buffer(chandle, source, maxSamples, noOfCaptures)\n",
    "pm.getValuesRapid(chandle,maxSamples,noOfCaptures)"
   ]
  },
  {
   "cell_type": "code",
   "execution_count": 40,
   "metadata": {},
   "outputs": [],
   "source": [
    "# convert ADC counts data to mV\n",
    "cmaxSamples = ctypes.c_int32(maxSamples)\n",
    "\n",
    "# Create time data\n",
    "time_array = np.linspace(0, (cmaxSamples.value - 1) * timeIntervalns.value, cmaxSamples.value)\n",
    "voltage_in_mV=[]\n",
    "with open('Data/ZigZag_%s.npy'%(int(time.time())), 'wb') as f:\n",
    "    for i in range(noOfCaptures):\n",
    "        # plot data from channel A and B\n",
    "        if i == 0:\n",
    "            voltage_in_mV = adc2mV(buffersMax[i], chBRange, maxADC)\n",
    "        else:\n",
    "            voltage_in_mV=np.vstack([voltage_in_mV, adc2mV(buffersMax[i], chBRange, maxADC)])\n",
    "    np.save(f,voltage_in_mV)\n",
    "\n",
    "# display status returns\n",
    "# print(status)\n",
    "\n",
    "# Stop the scope\n",
    "status[\"stop\"] = ps.ps5000aStop(chandle)\n",
    "assert_pico_ok(status[\"stop\"])\n",
    "\n",
    "\n",
    "# # Close unit Disconnect the scope\n",
    "status[\"close\"]=ps.ps5000aCloseUnit(chandle)\n",
    "assert_pico_ok(status[\"close\"])"
   ]
  },
  {
   "cell_type": "code",
   "execution_count": 41,
   "metadata": {},
   "outputs": [],
   "source": [
    "#sample points are still of def lengths, which is weird "
   ]
  },
  {
   "cell_type": "markdown",
   "metadata": {},
   "source": [
    "https://docs.zhinst.com/labone_q_user_manual/concepts/averaging_sweeping/"
   ]
  },
  {
   "cell_type": "markdown",
   "metadata": {},
   "source": []
  }
 ],
 "metadata": {
  "kernelspec": {
   "display_name": "laboneq",
   "language": "python",
   "name": "python3"
  },
  "language_info": {
   "codemirror_mode": {
    "name": "ipython",
    "version": 3
   },
   "file_extension": ".py",
   "mimetype": "text/x-python",
   "name": "python",
   "nbconvert_exporter": "python",
   "pygments_lexer": "ipython3",
   "version": "3.10.12"
  },
  "orig_nbformat": 4
 },
 "nbformat": 4,
 "nbformat_minor": 2
}
