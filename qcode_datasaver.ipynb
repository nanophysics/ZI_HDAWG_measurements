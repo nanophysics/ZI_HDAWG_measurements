{
 "cells": [
  {
   "cell_type": "code",
   "execution_count": null,
   "metadata": {},
   "outputs": [],
   "source": [
    "# 1. Import necessary libraries\n",
    "import os\n",
    "import numpy as np\n",
    "import qcodes as qc\n",
    "from qcodes.dataset import (\n",
    "    Measurement,\n",
    "    do1d,\n",
    "    initialise_or_create_database_at,\n",
    "    load_or_create_experiment,\n",
    ")\n",
    "from qcodes.station import Station\n",
    "from qcodes.tests.instrument_mocks import (\n",
    "    DummyInstrument,\n",
    "    DummyInstrumentWithMeasurement,\n",
    ")\n",
    "import IPython.lib.backgroundjobs as bg\n",
    "from plottr.apps import inspectr\n",
    "\n",
    "from qcodes.dataset import (\n",
    "    Measurement,\n",
    "    initialise_or_create_database_at,\n",
    "    load_or_create_experiment,\n",
    "    plot_dataset,\n",
    ")\n",
    "\n",
    "import matplotlib.pyplot as plt\n",
    "\n",
    "# 2. Setting up the configuration\n",
    "qc.logger.start_all_logging()\n",
    "\n",
    "# 3. Initializing instruments\n",
    "dac = DummyInstrument('dac', gates=['ch1', 'ch2'])\n",
    "dac2=DummyInstrument('dac2', gates=['ch1', 'ch2','ch3','ch4'])\n",
    "dmm = DummyInstrumentWithMeasurement(name='dmm', setter_instr=dac)\n",
    "station = qc.Station(dmm, dac)\n",
    "\n",
    "# 4. Setting up a database\n",
    "db_file_path = os.path.join(os.getcwd(), 'plottr_for_live_plotting_tutorial.db')\n",
    "initialise_or_create_database_at(db_file_path)\n",
    "exp = load_or_create_experiment(\n",
    "    experiment_name='plottr_for_live_plotting_with_subsecond_refresh_rate',\n",
    "    sample_name=\"no sample\"\n",
    ")\n",
    "\n",
    "# 5. Setting up measurements\n",
    "meas = Measurement(exp=exp)\n",
    "meas.register_parameter(dac.ch1)\n",
    "meas.register_parameter(dmm.v1, setpoints=(dac.ch1,))\n",
    "meas.write_period = 0.1\n",
    "\n",
    "# 6. Running the measurements\n",
    "with meas.run() as datasaver:\n",
    "    for set_v in np.linspace(0, 25, 100):\n",
    "        dac.ch1.set(set_v)\n",
    "        # get_v = dmm.v1.get()\n",
    "        get_v = np.random.randint(2, size=10)\n",
    "        datasaver.add_result((dac.ch1, set_v), (dmm.v1, get_v))\n",
    "\n",
    "    dataset = datasaver.dataset"
   ]
  },
  {
   "cell_type": "code",
   "execution_count": null,
   "metadata": {},
   "outputs": [],
   "source": [
    "# 5. Setting up measurements\n",
    "meas = Measurement(exp=exp)\n",
    "meas.register_parameter(dac.ch1)\n",
    "meas.register_parameter(dac.ch2)\n",
    "meas.register_parameter(dac2.ch1)\n",
    "meas.register_parameter(dmm.v1, setpoints=(dac.ch1,dac.ch2,dac2.ch1), paramtype='array')\n",
    "meas.register_parameter(dmm.v2, setpoints=(dac.ch1,dac.ch2,dac2.ch1))\n",
    "meas.write_period = 0.1\n",
    "\n",
    "# 6. Running the measurements\n",
    "with meas.run() as datasaver:\n",
    "    for set_v2 in np.linspace(0, 100, 100):\n",
    "        for set_v in np.linspace(0, 25, 100):\n",
    "            dac.ch1(set_v)\n",
    "            dac.ch2(set_v2)\n",
    "            get_v2 = dmm.v2.get()\n",
    "            data_array = np.random.randint(5, size=20)\n",
    "            datasaver.add_result((dac.ch1, set_v),(dac.ch2, set_v2),(dac2.ch1,set_v), (dmm.v1, data_array), (dmm.v2, get_v2))\n",
    "\n",
    "    dataset = datasaver.dataset"
   ]
  },
  {
   "cell_type": "code",
   "execution_count": null,
   "metadata": {},
   "outputs": [],
   "source": [
    "points_map={\n",
    "    'initial_point': [0.0, 0.0],\n",
    "    'anchor_point': [-0.0, 0.0],\n",
    "    'load_point':    [0.0, 0.0],\n",
    "    'readout_point': [0.0, 0.0], \n",
    "    'control_point': [0.0, 0.0],}\n",
    "\n",
    "qc.config.add('points_map', points_map, value_type='object', description='Mapping of points', default=None)"
   ]
  },
  {
   "cell_type": "code",
   "execution_count": null,
   "metadata": {},
   "outputs": [],
   "source": [
    "dataset_1d = load_by_run_spec(experiment_name='plottr_for_live_plotting_tutorial', captured_run_id=10)"
   ]
  },
  {
   "cell_type": "code",
   "execution_count": 73,
   "metadata": {},
   "outputs": [
    {
     "data": {
      "text/plain": [
       "{'initial_point': [0.0, 0.0],\n",
       " 'anchor_point': [-0.0, 0.0],\n",
       " 'load_point': [0.0, 0.0],\n",
       " 'readout_point': [0.0, 0.0],\n",
       " 'control_point': [0.0, 0.0]}"
      ]
     },
     "execution_count": 73,
     "metadata": {},
     "output_type": "execute_result"
    }
   ],
   "source": [
    "## How to save the configuration\n",
    "import json\n",
    "\n",
    "dataset.add_metadata(tag='userconfig', metadata=json.dumps(qc.config['user']))\n",
    "json.loads(dataset.get_metadata('userconfig'))['points_map']"
   ]
  },
  {
   "cell_type": "code",
   "execution_count": null,
   "metadata": {},
   "outputs": [],
   "source": []
  }
 ],
 "metadata": {
  "kernelspec": {
   "display_name": "base",
   "language": "python",
   "name": "python3"
  },
  "language_info": {
   "codemirror_mode": {
    "name": "ipython",
    "version": 3
   },
   "file_extension": ".py",
   "mimetype": "text/x-python",
   "name": "python",
   "nbconvert_exporter": "python",
   "pygments_lexer": "ipython3",
   "version": "3.11.4"
  },
  "orig_nbformat": 4
 },
 "nbformat": 4,
 "nbformat_minor": 2
}
