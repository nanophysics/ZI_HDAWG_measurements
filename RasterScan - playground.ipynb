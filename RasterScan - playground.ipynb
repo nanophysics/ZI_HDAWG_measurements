{
 "cells": [
  {
   "attachments": {},
   "cell_type": "markdown",
   "id": "46cfbe23",
   "metadata": {},
   "source": [
    "# Raster Scan"
   ]
  },
  {
   "attachments": {},
   "cell_type": "markdown",
   "id": "3647462f",
   "metadata": {},
   "source": [
    "# General Imports"
   ]
  },
  {
   "cell_type": "code",
   "execution_count": 1,
   "id": "9c56cac7",
   "metadata": {
    "ExecuteTime": {
     "end_time": "2021-10-01T06:52:59.392055Z",
     "start_time": "2021-10-01T06:52:57.155702Z"
    }
   },
   "outputs": [
    {
     "name": "stdout",
     "output_type": "stream",
     "text": [
      "2.11.0\n"
     ]
    }
   ],
   "source": [
    "%config IPCompleter.greedy=True\n",
    "\n",
    "# import matplotlib.pyplot as plt\n",
    "import numpy as np\n",
    "import time\n",
    "import zhinst.core\n",
    "import laboneq\n",
    "from laboneq.simple import *\n",
    "import ctypes\n",
    "import helpers\n",
    "import matplotlib.pyplot as plt\n",
    "from picosdk.ps5000a import ps5000a as ps\n",
    "from picosdk.functions import adc2mV, assert_pico_ok, mV2adc\n",
    "import picoscope_module as pm\n",
    "import time\n",
    "import zhinst.core\n",
    "#install_token(\"LabOneQ.AllQuantumInOne.\")\n",
    "DO_EMULATION = False # run in emulation mode by default\n",
    "\n",
    "print(laboneq.__version__)"
   ]
  },
  {
   "cell_type": "markdown",
   "id": "7b0cf0f1",
   "metadata": {},
   "source": [
    "# Sampling card setup"
   ]
  },
  {
   "attachments": {},
   "cell_type": "markdown",
   "id": "e66d0291",
   "metadata": {},
   "source": [
    "## Device Setup\n",
    "\n",
    "Picoscope and HDAWG"
   ]
  },
  {
   "cell_type": "code",
   "execution_count": 2,
   "id": "b5b5a4d2",
   "metadata": {},
   "outputs": [
    {
     "name": "stdout",
     "output_type": "stream",
     "text": [
      "3483\n"
     ]
    },
    {
     "data": {
      "text/plain": [
       "{'maximumValue': 0,\n",
       " 'setTriggerChannelPropertiesV2': 0,\n",
       " 'setTriggerChannelConditionsV2': 0,\n",
       " 'setTriggerChannelDirections': 0}"
      ]
     },
     "execution_count": 2,
     "metadata": {},
     "output_type": "execute_result"
    }
   ],
   "source": [
    "timebase = 900\n",
    "pico_sampling_rate = (timebase - 3) / 62500000\n",
    "preTriggerSamples = 0\n",
    "postTriggerSamples = int(50e-3/pico_sampling_rate)\n",
    "print(postTriggerSamples)\n",
    "TriggerLevel=1\n",
    "\n",
    "maxSamples = preTriggerSamples + postTriggerSamples\n",
    "ready = ctypes.c_int16(0)\n",
    "check = ctypes.c_int16(0)\n",
    "maxADC = ctypes.c_int16()\n",
    "\n",
    "chandle, status = pm.initialize_picoscope()\n",
    "chARange, chBRange, status = pm.setup_channels(chandle)\n",
    "# find maximum ADC count value\n",
    "\n",
    "pm.setup_trigger(chandle, chARange, chBRange, maxADC,TriggerLevel)\n",
    "\n",
    "# Get timebase information"
   ]
  },
  {
   "attachments": {},
   "cell_type": "markdown",
   "id": "a36a3823",
   "metadata": {},
   "source": [
    "## Create device setup -HDAWG"
   ]
  },
  {
   "cell_type": "code",
   "execution_count": 3,
   "id": "f142cff7",
   "metadata": {},
   "outputs": [
    {
     "name": "stderr",
     "output_type": "stream",
     "text": [
      "c:\\Users\\B15measure2\\anaconda3\\envs\\laboneq\\lib\\site-packages\\laboneq\\dsl\\device\\_device_setup_generator.py:1104: FutureWarning: 'instrument_list' section is deprecated in setup descriptor, use 'instruments' instead.\n",
      "  warnings.warn(\n"
     ]
    }
   ],
   "source": [
    "descriptor=\"\"\"\n",
    "instrument_list:\n",
    "  HDAWG:\n",
    "  - address: DEV8721\n",
    "    uid: device_hdawg\n",
    "    interface: usb\n",
    "connections:\n",
    "  device_hdawg:\n",
    "    - rf_signal: q0/fg8_line\n",
    "      ports: [SIGOUTS/0]\n",
    "    - rf_signal: q0/fg9_line\n",
    "      ports: [SIGOUTS/1]\n",
    "\"\"\"\n",
    "#Change back to to SIGOUTS/2 and SIGOUTS/3\n",
    "#And change fg8 and fg9\n",
    "device_setup = DeviceSetup.from_descriptor(\n",
    "    descriptor,\n",
    "    server_host=\"127.0.0.1\",\n",
    "    server_port=\"8004\",\n",
    "    setup_name=\"ZI_HDAWG\",\n",
    ")"
   ]
  },
  {
   "attachments": {},
   "cell_type": "markdown",
   "id": "bed6f007",
   "metadata": {},
   "source": [
    "## Define parameters for experiment"
   ]
  },
  {
   "cell_type": "code",
   "execution_count": 4,
   "id": "baa710e3",
   "metadata": {},
   "outputs": [],
   "source": [
    "START = -0.1\n",
    "STOP = 0.1\n",
    "STEPS = 8 #was 50 \n",
    "\n",
    "## define length sweep parameter\n",
    "level_sweep_parameter = LinearSweepParameter(\n",
    "    uid=\"gate2_sweep\", start=START, stop=STOP, count=STEPS,\n",
    ")"
   ]
  },
  {
   "cell_type": "code",
   "execution_count": 5,
   "id": "731f4d3c",
   "metadata": {},
   "outputs": [
    {
     "name": "stdout",
     "output_type": "stream",
     "text": [
      "{'pulse_time': 6.103515625e-06, 'trigger_time': 1.220703125e-07}\n"
     ]
    }
   ],
   "source": [
    "# Hack\n",
    "sampling_index = 13 # sampling rate is 2.4GHz/2^13, which is the minumium sampling rate HDAWG can go\n",
    "# Log sequence recorded on 2023/07/27 1:23:01\n",
    "daq = zhinst.core.ziDAQServer('127.0.0.1', 8004, 6) # Connect to awg with zhinst driver\n",
    "daq.setInt('/dev8721/awgs/0/time', sampling_index)\n",
    "\n",
    "\n",
    "sampling_rate= 1/2**sampling_index\n",
    "\n",
    "times_map = {'pulse_time': 50e-3,\n",
    "             'trigger_time': 1e-3} # The time Need to be larger than the \n",
    "\n",
    "for key in times_map:\n",
    "    times_map[key] /= 2**sampling_index\n",
    "\n",
    "# for key in times_map:\n",
    "#     times_map[key] /= 2**sampling_index\n",
    "\n",
    "print(times_map)"
   ]
  },
  {
   "cell_type": "code",
   "execution_count": 6,
   "id": "18e122d5",
   "metadata": {},
   "outputs": [],
   "source": [
    "# define pulse shapes\n",
    "@pulse_library.register_pulse_functional\n",
    "def ramp(x,start=0,stop=1 , **_):\n",
    "    pulse=start+ (stop-start)*(x+1)/2 # Time normalized to (-1,1)\n",
    "    return pulse\n",
    "\n",
    "\n",
    "\n",
    "level_pulse = pulse_library.const(uid=\"step_level\",length=times_map['pulse_time'],amplitude=1)\n",
    "ramp_pulse = ramp(uid=\"ramp\",start=-0.1,stop=0.1,length=times_map['pulse_time'])\n"
   ]
  },
  {
   "cell_type": "code",
   "execution_count": 7,
   "id": "2c7cc860",
   "metadata": {
    "ExecuteTime": {
     "end_time": "2021-10-01T06:55:24.645031Z",
     "start_time": "2021-10-01T06:55:06.983252Z"
    }
   },
   "outputs": [],
   "source": [
    "## Create Experiment\n",
    "exp = Experiment(\n",
    "    \"Singlet-triplet qubit example\",\n",
    "    signals=[\n",
    "        ExperimentSignal(\"gate3\"),\n",
    "        ExperimentSignal(\"gate4\"),\n",
    "    ],\n",
    ")\n",
    "\n",
    "# define experiment\n",
    "NUM_REP = 1\n",
    "\n",
    "with exp.acquire_loop_rt(\n",
    "    uid=(\"shots\"), count=NUM_REP, averaging_mode=AveragingMode.SEQUENTIAL\n",
    "):\n",
    "    with exp.sweep(uid='sweep_rabi',parameter=level_sweep_parameter):\n",
    "        with exp.section(\n",
    "            uid=\"between_trigger\", \n",
    "            length=times_map['trigger_time'],\n",
    "            alignment=SectionAlignment.LEFT):\n",
    "            exp.reserve(signal=\"gate3\")\n",
    "        with exp.section(\n",
    "            uid=(\"level1\"),\n",
    "            length=times_map['pulse_time'], \n",
    "            trigger={\"gate3\": {\"state\": 1}},\n",
    "            alignment=SectionAlignment.LEFT,\n",
    "        ):\n",
    "            exp.play(signal=\"gate3\", pulse=ramp_pulse)\n",
    "            exp.play(signal=\"gate4\", pulse=level_pulse, amplitude = level_sweep_parameter)    "
   ]
  },
  {
   "cell_type": "code",
   "execution_count": 8,
   "id": "eb3407dd",
   "metadata": {},
   "outputs": [],
   "source": [
    "# shortcut to the logical signal group q0\n",
    "lsg = device_setup.logical_signal_groups[\"q0\"].logical_signals\n",
    "\n",
    "# define signal map\n",
    "map_signals = {\n",
    "    \"gate3\" : lsg[\"fg8_line\"],\n",
    "    \"gate4\" : lsg[\"fg9_line\"]\n",
    "}"
   ]
  },
  {
   "cell_type": "code",
   "execution_count": 9,
   "id": "bd21a36c",
   "metadata": {},
   "outputs": [
    {
     "name": "stdout",
     "output_type": "stream",
     "text": [
      "2023.08.08 10:12:31.418 laboneq.controller.laboneq_logging INFO   Logging initialized from [Default inline config in laboneq.controller.laboneq_logging] logdir is c:\\Users\\B15measure2\\HDAWG\\laboneq_output\\log\n",
      "2023.08.08 10:12:31.423 laboneq.controller.controller  INFO   VERSION: laboneq 2.11.0\n",
      "2023.08.08 10:12:31.429 laboneq.controller.devices.device_collection INFO   Connecting to data server at 127.0.0.1:8004\n",
      "2023.08.08 10:12:31.683 laboneq.controller.communication INFO   Connected to Zurich Instruments LabOne Data Server version 23.02 at 127.0.0.1:8004\n",
      "2023.08.08 10:12:31.929 laboneq.controller.devices.device_collection INFO   Configuring the device setup\n",
      "2023.08.08 10:12:32.125 laboneq.controller.devices.device_collection INFO   The device setup is configured\n",
      "Loaded exp\n",
      "2023.08.08 10:12:32.374 laboneq.compiler.workflow.compiler INFO   Starting LabOne Q Compiler run...\n",
      "2023.08.08 10:12:32.579 laboneq.compiler.scheduler.scheduler INFO   Schedule completed\n",
      "2023.08.08 10:12:32.634 laboneq.compiler.workflow.compiler INFO   Total seqC lines generated: 68\n",
      "2023.08.08 10:12:32.638 laboneq.compiler.workflow.compiler INFO   Total sample points generated: 234496\n",
      "2023.08.08 10:12:32.640 laboneq.compiler.workflow.compiler INFO   Finished LabOne Q Compiler run.\n",
      "2023.08.08 10:12:32.897 laboneq.controller.controller  INFO   Starting near-time execution...\n",
      "2023.08.08 10:12:34.131 laboneq.controller.controller  INFO   Finished near-time execution.\n",
      "Running exp finished\n"
     ]
    },
    {
     "data": {
      "text/plain": [
       "{'GetValuesBulk': 0}"
      ]
     },
     "execution_count": 9,
     "metadata": {},
     "output_type": "execute_result"
    }
   ],
   "source": [
    "source = ps.PS5000A_CHANNEL[\"PS5000A_CHANNEL_B\"] #set the buffer\n",
    "noOfCaptures = NUM_REP*STEPS\n",
    "status,timeIntervalns = pm.capture_rapid_data_block(chandle, preTriggerSamples, postTriggerSamples, timebase, maxSamples,noOfCaptures)\n",
    "\n",
    "\n",
    "# # create and connect to session\n",
    "session = Session(device_setup=device_setup)\n",
    "session.connect(do_emulation=DO_EMULATION)\n",
    "# set experiment calibration and signal map\n",
    "exp.set_signal_map(map_signals)\n",
    "\n",
    "\n",
    "\n",
    "if not session.connection_state.emulated:\n",
    "    instrument_serial = device_setup.instrument_by_uid(\"device_hdawg\").address\n",
    "    device = session.devices[instrument_serial]\n",
    "    device.triggers.out[2].delay(23.9e-9)\n",
    "print(\"Loaded exp\")\n",
    "session.run(exp)\n",
    "print(\"Running exp finished\")\n",
    "# Check for data collection to finish using ps5000aIsReady\n",
    "while ready.value == check.value:\n",
    "    status[\"isReady\"] = ps.ps5000aIsReady(chandle, ctypes.byref(ready))\n",
    "\n",
    "buffersMax, buffersMin = pm.create_rapid_buffer(chandle, source, maxSamples, noOfCaptures)\n",
    "pm.getValuesRapid(chandle,maxSamples,noOfCaptures)"
   ]
  },
  {
   "cell_type": "code",
   "execution_count": 13,
   "id": "0ae4ba01",
   "metadata": {},
   "outputs": [
    {
     "name": "stdout",
     "output_type": "stream",
     "text": [
      "[[5000. 5000. 5000. ... 5000. 5000. 5000.]\n",
      " [5000. 5000. 5000. ... 5000. 5000. 5000.]\n",
      " [5000. 5000. 5000. ... 5000. 5000. 5000.]\n",
      " ...\n",
      " [5000. 5000. 5000. ... 5000. 5000. 5000.]\n",
      " [5000. 5000. 5000. ... 5000. 5000. 5000.]\n",
      " [5000. 5000. 5000. ... 5000. 5000. 5000.]]\n",
      "[[5000. 5000. 5000. ... 5000. 5000. 5000.]\n",
      " [5000. 5000. 5000. ... 5000. 5000. 5000.]\n",
      " [5000. 5000. 5000. ... 5000. 5000. 5000.]\n",
      " ...\n",
      " [5000. 5000. 5000. ... 5000. 5000. 5000.]\n",
      " [5000. 5000. 5000. ... 5000. 5000. 5000.]\n",
      " [5000. 5000. 5000. ... 5000. 5000. 5000.]]\n"
     ]
    }
   ],
   "source": [
    "print(np.vstack([voltage_in_mV, adc2mV(buffersMax[i], chBRange, maxADC)]))\n",
    "print(voltage_in_mV)"
   ]
  },
  {
   "cell_type": "code",
   "execution_count": 11,
   "id": "494175d0",
   "metadata": {},
   "outputs": [],
   "source": [
    "# convert ADC counts data to mV\n",
    "cmaxSamples = ctypes.c_int32(maxSamples)\n",
    "\n",
    "# Create time data\n",
    "time_stamp=int(time.time())\n",
    "time_array = np.linspace(0, (cmaxSamples.value - 1) * timeIntervalns.value, cmaxSamples.value)\n",
    "voltage_in_mV=[]\n",
    "with open('Data/RasterScan_%s.npy'%(time_stamp), 'wb') as f:\n",
    "    for i in range(noOfCaptures):\n",
    "        # plot data from channel A and B\n",
    "        if i == 0:\n",
    "            voltage_in_mV = adc2mV(buffersMax[i], chBRange, maxADC)\n",
    "        else:\n",
    "            voltage_in_mV=np.vstack([voltage_in_mV, adc2mV(buffersMax[i], chBRange, maxADC)])\n",
    "\n",
    "\n",
    "        # plt.plot(time, )\n",
    "    # plt.xlabel('Time (ns)')\n",
    "    # plt.ylabel('Voltage (mV)')\n",
    "    # plt.show()\n",
    "    # np.save(f,adc2mV(buffersMax[i], chARange, maxADC))\n",
    "    np.save(f,voltage_in_mV)\n",
    "\n",
    " \n",
    "\n",
    "# display status returns\n",
    "# print(status)\n",
    "\n",
    "# Stop the scope\n",
    "status[\"stop\"] = ps.ps5000aStop(chandle)\n",
    "assert_pico_ok(status[\"stop\"])\n",
    "\n",
    "\n",
    "# # Close unit Disconnect the scope\n",
    "# status[\"close\"]=ps.ps5000aCloseUnit(chandle)\n",
    "# assert_pico_ok(status[\"close\"])"
   ]
  },
  {
   "cell_type": "code",
   "execution_count": 12,
   "id": "57ad8045",
   "metadata": {},
   "outputs": [
    {
     "data": {
      "text/plain": [
       "<matplotlib.image.AxesImage at 0x23f3d519b10>"
      ]
     },
     "execution_count": 12,
     "metadata": {},
     "output_type": "execute_result"
    },
    {
     "data": {
      "image/png": "[encoded data removed]",
      "text/plain": [
       "<Figure size 640x480 with 1 Axes>"
      ]
     },
     "metadata": {},
     "output_type": "display_data"
    }
   ],
   "source": [
    "# print(voltage_in_mV)\n",
    "# plt.figure(dpi=500)\n",
    "\n",
    "plt.imshow(voltage_in_mV,aspect=300)"
   ]
  },
  {
   "cell_type": "code",
   "execution_count": 1,
   "id": "81407a18",
   "metadata": {},
   "outputs": [
    {
     "ename": "NameError",
     "evalue": "name 'plt' is not defined",
     "output_type": "error",
     "traceback": [
      "\u001b[1;31m---------------------------------------------------------------------------\u001b[0m",
      "\u001b[1;31mNameError\u001b[0m                                 Traceback (most recent call last)",
      "Cell \u001b[1;32mIn[1], line 3\u001b[0m\n\u001b[0;32m      1\u001b[0m \u001b[39mwith\u001b[39;00m \u001b[39mopen\u001b[39m(\u001b[39m'\u001b[39m\u001b[39mtest2.npy\u001b[39m\u001b[39m'\u001b[39m, \u001b[39m'\u001b[39m\u001b[39mrb\u001b[39m\u001b[39m'\u001b[39m) \u001b[39mas\u001b[39;00m f:\n\u001b[0;32m      2\u001b[0m     \u001b[39m# plt.imshow(np.load(f))\u001b[39;00m\n\u001b[1;32m----> 3\u001b[0m     plt\u001b[39m.\u001b[39mplot(np\u001b[39m.\u001b[39mload(f)[\u001b[39m0\u001b[39m,:])\n",
      "\u001b[1;31mNameError\u001b[0m: name 'plt' is not defined"
     ]
    }
   ],
   "source": [
    "with open('test2.npy', 'rb') as f:\n",
    "    # plt.imshow(np.load(f))\n",
    "    plt.plot(np.load(f)[0,:])"
   ]
  },
  {
   "attachments": {},
   "cell_type": "markdown",
   "id": "05562c77",
   "metadata": {},
   "source": [
    "### View experiment in pulse sheet viewer\n",
    "\n",
    "To-do: \n",
    "1. Add stability diagram visualization"
   ]
  },
  {
   "cell_type": "code",
   "execution_count": 13,
   "id": "a286c938",
   "metadata": {},
   "outputs": [
    {
     "name": "stdout",
     "output_type": "stream",
     "text": [
      "2023.07.29 22:46:44.042 laboneq.pulse_sheet_viewer.pulse_sheet_viewer INFO   Writing html file to c:\\Users\\B15measure2\\HDAWG\\laboneq_output\\ST pulse test_2023-07-29-22-46-43.html\n"
     ]
    },
    {
     "data": {
      "text/html": [
       "<a href='.\\laboneq_output\\ST pulse test_2023-07-29-22-46-43.html' target='_blank'>.\\laboneq_output\\ST pulse test_2023-07-29-22-46-43.html</a><br>"
      ],
      "text/plain": [
       "c:\\Users\\B15measure2\\HDAWG\\laboneq_output\\ST pulse test_2023-07-29-22-46-43.html"
      ]
     },
     "execution_count": 13,
     "metadata": {},
     "output_type": "execute_result"
    }
   ],
   "source": [
    "# use pulse sheet viewer to display the pulse sequence - only recommended for small number of averages and sweep steps to avoid performance issues\n",
    "compiled_exp = session.compiled_experiment\n",
    "show_pulse_sheet(\".\\laboneq_output\\ST pulse test\", compiled_exp)"
   ]
  },
  {
   "cell_type": "code",
   "execution_count": 11,
   "id": "96071c39",
   "metadata": {},
   "outputs": [
    {
     "data": {
      "text/html": [
       "\n",
       "        <iframe\n",
       "            width=\"100%\"\n",
       "            height=\"700\"\n",
       "            src=\"http://127.0.0.1:53031/psv.html\"\n",
       "            frameborder=\"0\"\n",
       "            allowfullscreen\n",
       "            \n",
       "        ></iframe>\n",
       "        "
      ],
      "text/plain": [
       "<IPython.lib.display.IFrame at 0x18d0983c910>"
      ]
     },
     "metadata": {},
     "output_type": "display_data"
    }
   ],
   "source": [
    "helpers.interactive_psv(compiled_exp)"
   ]
  },
  {
   "attachments": {},
   "cell_type": "markdown",
   "id": "daa3a73a",
   "metadata": {},
   "source": [
    "# 2D sweep example, wait time vs phase of second pulse"
   ]
  },
  {
   "attachments": {},
   "cell_type": "markdown",
   "id": "ad40d7c9",
   "metadata": {},
   "source": [
    "## Experiment"
   ]
  },
  {
   "cell_type": "code",
   "execution_count": null,
   "id": "70622fa8",
   "metadata": {},
   "outputs": [],
   "source": [
    "## constant definition\n",
    "X90_DURATION = 10e-9  # [s]\n",
    "\n",
    "START = 0\n",
    "STOP = 2 * np.pi\n",
    "STEPS = 5\n",
    "NUM_REP = 2\n",
    "\n",
    "START_DELAY = 0\n",
    "STOP_DELAY = LEN_COULOMB_CYCLE / 2 - 2 * X90_DURATION\n",
    "STEPS_DELAY = 3\n"
   ]
  },
  {
   "cell_type": "code",
   "execution_count": null,
   "id": "20f6ef49",
   "metadata": {},
   "outputs": [],
   "source": [
    "## define phase sweep parameter\n",
    "sweep_phase = LinearSweepParameter(\n",
    "    uid=\"phase_sweep\", start=START, stop=STOP, count=STEPS\n",
    ")\n",
    "sweep_delay = LinearSweepParameter(\n",
    "    uid=\"Ramsey_delay\", start=START_DELAY, stop=STOP_DELAY, count=STEPS_DELAY\n",
    ")\n",
    "\n",
    "print(sweep_phase.values / np.pi)"
   ]
  },
  {
   "cell_type": "code",
   "execution_count": null,
   "id": "6dc3e35b",
   "metadata": {},
   "outputs": [],
   "source": [
    "## Create Experiment\n",
    "exp = Experiment(\n",
    "    \"Ramsey variant I\",\n",
    "    signals=[\n",
    "        ExperimentSignal(\"drive\"),\n",
    "        ExperimentSignal(\"gate1\"),\n",
    "        ExperimentSignal(\"gate2\"),\n",
    "    ],\n",
    ")\n",
    "\n",
    "# define experiment\n",
    "with exp.acquire_loop_rt(\n",
    "    uid=\"shots\", count=NUM_REP, averaging_mode=AveragingMode.CYCLIC\n",
    "):\n",
    "    with exp.sweep(uid=\"sweep_delay\", parameter=sweep_delay):\n",
    "        with exp.sweep(uid=\"sweep_phase\", parameter=sweep_phase):\n",
    "            with exp.section(\n",
    "                uid=\"qubit_excitation\",\n",
    "                alignment=SectionAlignment.RIGHT,\n",
    "                length=LEN_COULOMB_CYCLE,\n",
    "            ):\n",
    "                exp.play(signal=\"gate1\", pulse=coulomb_pulse, amplitude=0.5)\n",
    "                exp.play(signal=\"gate1\", pulse=coulomb_pulse, amplitude=0.75)\n",
    "\n",
    "                exp.play(signal=\"gate2\", pulse=coulomb_pulse, amplitude=0.5)\n",
    "                exp.play(signal=\"gate2\", pulse=coulomb_pulse, amplitude=0.75)\n",
    "\n",
    "                exp.play(signal=\"drive\", pulse=drive_pulse, set_oscillator_phase=0)\n",
    "                exp.delay(signal=\"drive\", time=sweep_delay)\n",
    "                exp.play(\n",
    "                    signal=\"drive\",\n",
    "                    pulse=drive_pulse,\n",
    "                    increment_oscillator_phase=sweep_phase,\n",
    "                )\n",
    "            with exp.section(\n",
    "                uid=\"qubit_readout\",\n",
    "                alignment=SectionAlignment.RIGHT,\n",
    "                length=LEN_READOUT,\n",
    "            ):\n",
    "                exp.play(signal=\"gate1\", pulse=coulomb_readout, amplitude=0.3)\n",
    "                exp.play(signal=\"gate2\", pulse=coulomb_readout, amplitude=0.3)\n",
    "            with exp.section(\n",
    "                uid=\"outer_trigger\",\n",
    "                length=LEN_READOUT,\n",
    "                trigger={\"drive\": {\"state\": 1}},\n",
    "                alignment=SectionAlignment.RIGHT,\n",
    "            ):\n",
    "                with exp.section(\n",
    "                    uid=\"inner_trigger\",\n",
    "                    length=LEN_READOUT - 100e-9,\n",
    "                    trigger={\"drive\": {\"state\": 2}},\n",
    "                ):\n",
    "                    exp.reserve(signal=\"drive\")\n"
   ]
  },
  {
   "cell_type": "code",
   "execution_count": null,
   "id": "2f72836b",
   "metadata": {},
   "outputs": [],
   "source": [
    "# create and connect to session\n",
    "session = Session(device_setup=device_setup)\n",
    "session.connect(do_emulation=DO_EMULATION)\n",
    "\n",
    "# set experiment calibration and signal map\n",
    "exp.set_calibration(calib_q0)\n",
    "exp.set_signal_map(map_q0)\n",
    "\n",
    "session.run(exp)"
   ]
  },
  {
   "attachments": {},
   "cell_type": "markdown",
   "id": "519cb971",
   "metadata": {},
   "source": [
    "## View experiment in pulse sheet viewer"
   ]
  },
  {
   "cell_type": "code",
   "execution_count": null,
   "id": "57bd0c30",
   "metadata": {},
   "outputs": [],
   "source": [
    "# use pulse sheet viewer to display the pulse sequence - only recommended for small number of averages and sweep steps to avoid performance issues\n",
    "compiled_exp = session.compiled_experiment\n",
    "show_pulse_sheet(\"2D example\", compiled_exp)\n",
    "\n"
   ]
  }
 ],
 "metadata": {
  "hide_input": false,
  "kernelspec": {
   "display_name": "Python 3 (ipykernel)",
   "language": "python",
   "name": "python3"
  },
  "language_info": {
   "codemirror_mode": {
    "name": "ipython",
    "version": 3
   },
   "file_extension": ".py",
   "mimetype": "text/x-python",
   "name": "python",
   "nbconvert_exporter": "python",
   "pygments_lexer": "ipython3",
   "version": "3.10.12"
  },
  "toc": {
   "base_numbering": 1,
   "nav_menu": {},
   "number_sections": true,
   "sideBar": true,
   "skip_h1_title": false,
   "title_cell": "Table of Contents",
   "title_sidebar": "Contents",
   "toc_cell": false,
   "toc_position": {},
   "toc_section_display": true,
   "toc_window_display": true
  },
  "varInspector": {
   "cols": {
    "lenName": 16,
    "lenType": 16,
    "lenVar": 40
   },
   "kernels_config": {
    "python": {
     "delete_cmd_postfix": "",
     "delete_cmd_prefix": "del ",
     "library": "var_list.py",
     "varRefreshCmd": "print(var_dic_list())"
    },
    "r": {
     "delete_cmd_postfix": ") ",
     "delete_cmd_prefix": "rm(",
     "library": "var_list.r",
     "varRefreshCmd": "cat(var_dic_list()) "
    }
   },
   "types_to_exclude": [
    "module",
    "function",
    "builtin_function_or_method",
    "instance",
    "_Feature"
   ],
   "window_display": false
  },
  "vscode": {
   "interpreter": {
    "hash": "1e2348b99e9b57c06dda9e7900ba673dbbad3d2fc82d9d0b061682349b938991"
   }
  }
 },
 "nbformat": 4,
 "nbformat_minor": 5
}
