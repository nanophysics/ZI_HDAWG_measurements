{
 "cells": [
  {
   "attachments": {},
   "cell_type": "markdown",
   "id": "46cfbe23",
   "metadata": {},
   "source": [
    "# Spin Qubit Pulse Sequences with the HDAWG"
   ]
  },
  {
   "attachments": {},
   "cell_type": "markdown",
   "id": "4a5e08b0",
   "metadata": {},
   "source": [
    "This notebook shows you how to use pulse sequences with an HDAWG to realize various experiments. While the sequences are mostly general, they are adapted to those typically used for spin qubits by adding the gate pulsing to control between Coulomb and spin blockade."
   ]
  },
  {
   "attachments": {},
   "cell_type": "markdown",
   "id": "3647462f",
   "metadata": {},
   "source": [
    "# General Imports"
   ]
  },
  {
   "cell_type": "code",
   "execution_count": 2,
   "id": "bd21a36c",
   "metadata": {},
   "outputs": [
    {
     "name": "stdout",
     "output_type": "stream",
     "text": [
      "0\n",
      "data acq\n",
      "done reading\n",
      "saved time\n"
     ]
    },
    {
     "ename": "",
     "evalue": "",
     "output_type": "error",
     "traceback": [
      "\u001b[1;31mCannot execute code, session has been disposed. Please try restarting the Kernel."
     ]
    },
    {
     "ename": "",
     "evalue": "",
     "output_type": "error",
     "traceback": [
      "\u001b[1;31mThe Kernel crashed while executing code in the the current cell or a previous cell. Please review the code in the cell(s) to identify a possible cause of the failure. Click <a href='https://aka.ms/vscodeJupyterKernelCrash'>here</a> for more info. View Jupyter <a href='command:jupyter.viewOutput'>log</a> for further details."
     ]
    }
   ],
   "source": [
    "%config IPCompleter.greedy=True\n",
    "\n",
    "# import matplotlib.pyplot as plt\n",
    "import numpy as np\n",
    "import time\n",
    "import ctypes\n",
    "import helpers\n",
    "import matplotlib.pyplot as plt\n",
    "import gc\n",
    "from picosdk.ps5000a import ps5000a as ps\n",
    "from picosdk.functions import adc2mV, assert_pico_ok, mV2adc\n",
    "import picoscope_module as pm\n",
    "from scipy.fft import fft\n",
    "import scipy.signal as signal\n",
    "#install_token(\"LabOneQ.AllQuantumInOne.\")\n",
    "DO_EMULATION = False # run in emulation mode by default\n",
    "\n",
    "timebase = 628 # 628\n",
    "preTriggerSamples = 10\n",
    "pico_sampling_rate = (timebase - 3) / 62500000\n",
    "postTriggerSamples = int(np.ceil(45e-3/pico_sampling_rate)) #Measurment length was 8\n",
    "TriggerLevel=1\n",
    "for rep in range(1):\n",
    "    print(rep)\n",
    "    maxSamples = preTriggerSamples + postTriggerSamples\n",
    "    ready = ctypes.c_int16(0)\n",
    "    check = ctypes.c_int16(0)\n",
    "    maxADC = ctypes.c_int16()\n",
    "\n",
    "\n",
    "\n",
    "    chandle, status = pm.initialize_picoscope()\n",
    "    chARange, chBRange, status = pm.setup_channels(chandle)\n",
    "    # find maximum ADC count value\n",
    "\n",
    "    pm.setup_trigger_noTrigger(chandle, chARange, chBRange, maxADC,TriggerLevel)\n",
    "\n",
    "    # Get timebase information\n",
    "\n",
    "    # define experiment\n",
    "    NUM_REP = 30 # WHY DOES 8 work all the time?\n",
    "\n",
    "    source = ps.PS5000A_CHANNEL[\"PS5000A_CHANNEL_B\"] #set the buffer\n",
    "    noOfCaptures = NUM_REP\n",
    "    cmaxSamples = ctypes.c_int32(maxSamples)\n",
    "\n",
    "    # Create time data\n",
    "    time_stamp=int(time.time())\n",
    "\n",
    "    with open('Data/data_%s.npy'%(time_stamp), 'wb') as f:\n",
    "                status,timeIntervalns = pm.capture_rapid_data_block(chandle, preTriggerSamples, postTriggerSamples, timebase, maxSamples,noOfCaptures)\n",
    "                while ready.value == check.value:\n",
    "                    status[\"isReady\"] = ps.ps5000aIsReady(chandle, ctypes.byref(ready))\n",
    "                print('data acq')\n",
    "                buffersMax, buffersMin = pm.create_rapid_buffer(chandle, source, maxSamples, noOfCaptures)\n",
    "                pm.getValuesRapid(chandle,maxSamples,noOfCaptures)\n",
    "                print('done reading')\n",
    "\n",
    "                time_array = np.linspace(0, (cmaxSamples.value - 1) * timeIntervalns.value, cmaxSamples.value)\n",
    "                np.save(f,time_array)\n",
    "                print('saved time')\n",
    "                for i in range(noOfCaptures):\n",
    "                    np.save(f,adc2mV(buffersMax[i], chARange, maxADC))\n",
    "\n",
    "\n",
    "    Vdet_list=np.array([])\n",
    "    for i in range(noOfCaptures):\n",
    "            Vdet_list=np.append(Vdet_list,adc2mV(buffersMax[i], chARange, maxADC))\n",
    "\n",
    "\n",
    "\n",
    "        \n",
    "\n",
    "\n",
    "\n",
    "    # Stop the scope\n",
    "    status[\"stop\"] = ps.ps5000aStop(chandle)\n",
    "    assert_pico_ok(status[\"stop\"])\n",
    "\n",
    "\n",
    "    # # Close unit Disconnect the scope\n",
    "    status[\"close\"]=ps.ps5000aCloseUnit(chandle)\n",
    "    assert_pico_ok(status[\"close\"])\n",
    "\n",
    "    fig4, ax4=plt.subplots()\n",
    "    ax4.plot(np.linspace(0, 1e5-1,len(Vdet_list)),  np.abs(fft(Vdet_list)) , alpha=0.9, label='with RF lines')\n",
    "    ax4.set_title(\"FFT_Zoom\")\n",
    "    ax4.set_xlim(0, 1e3)\n",
    "    ax4.set_yscale('log')\n",
    "    ylim=ax4.get_ylim()\n",
    "    xlim=ax4.get_xlim()\n",
    "    ax4.set_xlabel(\"Frequency (Hz)\")\n",
    "    ax4.set_ylabel(\"FFT signal (a.u.)\")\n",
    "    peaks=signal.find_peaks(np.abs(fft(Vdet_list)), height=1e3, distance=100)\n",
    "    peak_freq=np.linspace(0, 1e5-1,len(Vdet_list))[peaks[0]]\n",
    "    ax4.legend()\n",
    "    for i in range(0, len(peak_freq)):\n",
    "        if peak_freq[i]<max(xlim):\n",
    "            ax4.vlines(peak_freq[i], *ylim, color='red', alpha=0.3)\n",
    "            ax4.text(peak_freq[i], max(ylim), '%.0lf'%peak_freq[i], fontsize='small')\n",
    "            print(\"Frequenz %.2lf hat eine Höhe von %.2e\" %(peak_freq[i], peaks[1]['peak_heights'][i]))\n",
    "\n",
    "    fig, ax= plt.subplots()\n",
    "    ax.plot(Vdet_list)"
   ]
  },
  {
   "cell_type": "code",
   "execution_count": null,
   "id": "35007730",
   "metadata": {},
   "outputs": [],
   "source": []
  }
 ],
 "metadata": {
  "hide_input": false,
  "kernelspec": {
   "display_name": "Python 3 (ipykernel)",
   "language": "python",
   "name": "python3"
  },
  "language_info": {
   "codemirror_mode": {
    "name": "ipython",
    "version": 3
   },
   "file_extension": ".py",
   "mimetype": "text/x-python",
   "name": "python",
   "nbconvert_exporter": "python",
   "pygments_lexer": "ipython3",
   "version": "3.10.12"
  },
  "toc": {
   "base_numbering": 1,
   "nav_menu": {},
   "number_sections": true,
   "sideBar": true,
   "skip_h1_title": false,
   "title_cell": "Table of Contents",
   "title_sidebar": "Contents",
   "toc_cell": false,
   "toc_position": {},
   "toc_section_display": true,
   "toc_window_display": true
  },
  "varInspector": {
   "cols": {
    "lenName": 16,
    "lenType": 16,
    "lenVar": 40
   },
   "kernels_config": {
    "python": {
     "delete_cmd_postfix": "",
     "delete_cmd_prefix": "del ",
     "library": "var_list.py",
     "varRefreshCmd": "print(var_dic_list())"
    },
    "r": {
     "delete_cmd_postfix": ") ",
     "delete_cmd_prefix": "rm(",
     "library": "var_list.r",
     "varRefreshCmd": "cat(var_dic_list()) "
    }
   },
   "types_to_exclude": [
    "module",
    "function",
    "builtin_function_or_method",
    "instance",
    "_Feature"
   ],
   "window_display": false
  },
  "vscode": {
   "interpreter": {
    "hash": "1e2348b99e9b57c06dda9e7900ba673dbbad3d2fc82d9d0b061682349b938991"
   }
  }
 },
 "nbformat": 4,
 "nbformat_minor": 5
}
