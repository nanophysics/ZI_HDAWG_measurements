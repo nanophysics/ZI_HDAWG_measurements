{
 "cells": [
  {
   "attachments": {},
   "cell_type": "markdown",
   "id": "46cfbe23",
   "metadata": {},
   "source": [
    "# Spin Qubit Pulse Sequences with the HDAWG"
   ]
  },
  {
   "attachments": {},
   "cell_type": "markdown",
   "id": "4a5e08b0",
   "metadata": {},
   "source": [
    "This notebook shows you how to use pulse sequences with an HDAWG to realize various experiments. While the sequences are mostly general, they are adapted to those typically used for spin qubits by adding the gate pulsing to control between Coulomb and spin blockade.\n",
    "\n",
    "\n",
    "* Make use of the calibration to adjust the parameters\n",
    "* Randomized benchmarking with IQ tomography and Bayesian update, which will be used as feedback.\n",
    "* QND measurements. with repetition of sections"
   ]
  },
  {
   "attachments": {},
   "cell_type": "markdown",
   "id": "3647462f",
   "metadata": {},
   "source": [
    "# General Imports"
   ]
  },
  {
   "cell_type": "code",
   "execution_count": null,
   "id": "9c56cac7",
   "metadata": {
    "ExecuteTime": {
     "end_time": "2021-10-01T06:52:59.392055Z",
     "start_time": "2021-10-01T06:52:57.155702Z"
    }
   },
   "outputs": [],
   "source": [
    "%config IPCompleter.greedy=True\n",
    "\n",
    "# import matplotlib.pyplot as plt\n",
    "import numpy as np\n",
    "import time\n",
    "import zhinst.core\n",
    "import laboneq\n",
    "from laboneq.simple import *\n",
    "import helpers\n",
    "from laboneq.pulse_sheet_viewer.interactive_psv import interactive_psv\n",
    "\n",
    "#install_token(\"LabOneQ.AllQuantumInOne.\")\n",
    "DO_EMULATION = True # run in emulation mode by default\n",
    "\n",
    "print(laboneq.__version__)"
   ]
  },
  {
   "attachments": {},
   "cell_type": "markdown",
   "id": "e66d0291",
   "metadata": {},
   "source": [
    "# Device Setup\n",
    "\n",
    "Device specific parameters are still required."
   ]
  },
  {
   "attachments": {},
   "cell_type": "markdown",
   "id": "a36a3823",
   "metadata": {},
   "source": [
    "## Create device setup"
   ]
  },
  {
   "cell_type": "code",
   "execution_count": null,
   "id": "f142cff7",
   "metadata": {},
   "outputs": [],
   "source": [
    "descriptor=\"\"\"\n",
    "instrument_list:\n",
    "  HDAWG:\n",
    "  - address: DEV8721\n",
    "    uid: device_hdawg\n",
    "    interface: usb\n",
    "connections:\n",
    "  device_hdawg:\n",
    "    - rf_signal: q0/fg2_line\n",
    "      ports: [SIGOUTS/0]\n",
    "    - rf_signal: q0/fg4_line\n",
    "      ports: [SIGOUTS/1]\n",
    "\"\"\"\n",
    "\n",
    "device_setup = DeviceSetup.from_descriptor(\n",
    "    descriptor,\n",
    "    server_host=\"127.0.0.1\",\n",
    "    server_port=\"8004\",\n",
    "    setup_name=\"ZI_HDAWG\",\n",
    ")"
   ]
  },
  {
   "attachments": {},
   "cell_type": "markdown",
   "id": "04cd28fe",
   "metadata": {},
   "source": [
    "# S-T readout"
   ]
  },
  {
   "attachments": {},
   "cell_type": "markdown",
   "id": "bed6f007",
   "metadata": {},
   "source": [
    "## Define parameters for experiment"
   ]
  },
  {
   "cell_type": "code",
   "execution_count": null,
   "id": "731f4d3c",
   "metadata": {},
   "outputs": [],
   "source": [
    "points_map={\n",
    "    'initial_point': [0.0, 0.0],\n",
    "    'anchor_point': [-0.0, 0.0],\n",
    "    'load_point':    [0.0, 0.0],\n",
    "    'readout_point': [0.0, 0.0], \n",
    "    'control_point': [0.0, 0.0],}\n",
    "\n",
    "points_map['unload_point'] = points_map['initial_point']\n",
    "\n",
    "times_map = {'initial_time': 10e-3, \n",
    "             'anchor_time': 4e-6, \n",
    "             'load_time': 15e-6, \n",
    "             'readout_time': 30e-3, \n",
    "             'control_time': 8e-6,\n",
    "             'trigger_time': 1e-3}\n",
    "\n",
    "times_map['unload_time']=times_map['initial_time']"
   ]
  },
  {
   "cell_type": "code",
   "execution_count": null,
   "id": "0c46216e",
   "metadata": {},
   "outputs": [],
   "source": [
    "## constant definition\n",
    "START = 1e-6\n",
    "STOP = 7e-6\n",
    "STEPS = 5\n",
    "\n",
    "## define length sweep parameter\n",
    "length_sweep_parameter = LinearSweepParameter(\n",
    "    uid=\"length_sweep\", start=START, stop=STOP, count=STEPS,\n",
    ")"
   ]
  },
  {
   "cell_type": "code",
   "execution_count": null,
   "id": "18e122d5",
   "metadata": {},
   "outputs": [],
   "source": [
    "# define pulse shapes\n",
    "drive_pulse = pulse_library.const(\n",
    "    uid=\"rabi_drive_pulse\", length=400e-6, amplitude=1\n",
    ")\n",
    "\n",
    "@pulse_library.register_pulse_functional\n",
    "def ramp(x,start=0,stop=1 , **_):\n",
    "    pulse=start+ (stop-start)*(x+1)/2 # Time normalized to (-1,1)\n",
    "    return pulse\n",
    "\n",
    "compress_level_pulse=pulse_library.const(uid=\"compress_level\",length=times_map['initial_time'],amplitude=1,can_compress=True)\n",
    "compress_read_pulse=pulse_library.const(uid=\"compress_level\",length=times_map['readout_time'],amplitude=1,can_compress=True)\n",
    "level_pulse = pulse_library.const(uid=\"level\",length=times_map['control_time'],amplitude=1)\n",
    "ramp_pulse = ramp(uid=\"ramp\",start=0.0,stop=0.01,length=400e-9, amplitude=1)"
   ]
  },
  {
   "cell_type": "code",
   "execution_count": null,
   "id": "2c7cc860",
   "metadata": {
    "ExecuteTime": {
     "end_time": "2021-10-01T06:55:24.645031Z",
     "start_time": "2021-10-01T06:55:06.983252Z"
    }
   },
   "outputs": [],
   "source": [
    "## Create Experiment\n",
    "exp = Experiment(\n",
    "    \"Singlet-triplet qubit example\",\n",
    "    signals=[\n",
    "        ExperimentSignal(\"gate1\"),\n",
    "        ExperimentSignal(\"gate2\"),\n",
    "    ],\n",
    ")\n",
    "\n",
    "# define experiment\n",
    "NUM_REP = 10\n",
    "with exp.acquire_loop_rt(\n",
    "    uid=(\"shots\"), count=NUM_REP, averaging_mode=AveragingMode.SEQUENTIAL\n",
    "):\n",
    "    # with exp.section(\n",
    "    #         uid=\"outer_trigger\", \n",
    "    #         length=times_map['trigger_time'],\n",
    "    #         trigger={\"gate1\": {\"state\": 1}}, \n",
    "    #         alignment=SectionAlignment.RIGHT):\n",
    "    #         exp.reserve(signal=\"gate1\")\n",
    "    \n",
    "    with exp.sweep(uid='sweep_rabi',parameter=length_sweep_parameter):\n",
    "        with exp.section(\n",
    "            uid=(\"unload\"),\n",
    "            length=times_map['unload_time'], \n",
    "            alignment=SectionAlignment.RIGHT,\n",
    "        ):\n",
    "            exp.play(signal=\"gate1\", pulse=compress_level_pulse, amplitude=points_map['unload_point'][0]) \n",
    "            exp.play(signal=\"gate2\", pulse=compress_level_pulse, amplitude=points_map['unload_point'][1])\n",
    "        with exp.section(\n",
    "            uid=(\"load\"),\n",
    "            length=times_map['load_time'], \n",
    "            alignment=SectionAlignment.RIGHT,\n",
    "        ):\n",
    "            exp.play(signal=\"gate1\", pulse=level_pulse, length = length_sweep_parameter, amplitude=points_map['load_point'][0]) \n",
    "            exp.play(signal=\"gate2\", pulse=level_pulse, length = times_map['load_time'], amplitude=points_map['load_point'][1])\n",
    "        with exp.section(\n",
    "            uid=(\"anchor\"),\n",
    "            length=times_map['anchor_time'],\n",
    "            alignment=SectionAlignment.RIGHT,\n",
    "        ):\n",
    "            exp.play(signal=\"gate1\", pulse=level_pulse, amplitude=points_map['anchor_point'][0],length=times_map['anchor_time']) \n",
    "            exp.play(signal=\"gate2\", pulse=ramp_pulse, amplitude=1,length=times_map['anchor_time'])\n",
    "        with exp.section(\n",
    "            uid=\"readout\", \n",
    "            length=times_map['readout_time'],\n",
    "            alignment=SectionAlignment.RIGHT):\n",
    "            exp.play(signal=\"gate1\", pulse=compress_read_pulse, amplitude=points_map['readout_point'][0])\n",
    "            exp.play(signal=\"gate2\", pulse=compress_read_pulse, amplitude=points_map['readout_point'][1])"
   ]
  },
  {
   "cell_type": "code",
   "execution_count": null,
   "id": "eb3407dd",
   "metadata": {},
   "outputs": [],
   "source": [
    "# shortcut to the logical signal group q0\n",
    "lsg = device_setup.logical_signal_groups[\"q0\"].logical_signals\n",
    "\n",
    "# define signal map\n",
    "map_signals = {\n",
    "    \"gate1\" : lsg[\"fg2_line\"],\n",
    "    \"gate2\" : lsg[\"fg4_line\"]\n",
    "}"
   ]
  },
  {
   "cell_type": "code",
   "execution_count": null,
   "id": "bd21a36c",
   "metadata": {},
   "outputs": [],
   "source": [
    "# create and connect to session\n",
    "session = Session(device_setup=device_setup)\n",
    "session.connect(do_emulation=DO_EMULATION)\n",
    "# set experiment calibration and signal map\n",
    "exp.set_signal_map(map_signals)\n",
    "\n",
    "if not session.connection_state.emulated:\n",
    "    instrument_serial = device_setup.instrument_by_uid(\"device_hdawg\").address\n",
    "    device = session.devices[instrument_serial]\n",
    "    device.triggers.out[2].delay(23.9e-9)\n",
    "\n",
    "session.run(exp)"
   ]
  },
  {
   "attachments": {},
   "cell_type": "markdown",
   "id": "05562c77",
   "metadata": {},
   "source": [
    "### View experiment in pulse sheet viewer\n",
    "\n",
    "To-do: \n",
    "1. Add stability diagram visualization"
   ]
  },
  {
   "cell_type": "code",
   "execution_count": null,
   "id": "a286c938",
   "metadata": {},
   "outputs": [],
   "source": [
    "# use pulse sheet viewer to display the pulse sequence - only recommended for small number of averages and sweep steps to avoid performance issues\n",
    "compiled_exp = session.compiled_experiment\n",
    "pulse_name=show_pulse_sheet(\".\\laboneq_output\\ST pulse test\", compiled_exp)"
   ]
  },
  {
   "cell_type": "code",
   "execution_count": null,
   "id": "1ca925c2",
   "metadata": {},
   "outputs": [],
   "source": [
    "pulse_name"
   ]
  },
  {
   "cell_type": "code",
   "execution_count": null,
   "id": "96071c39",
   "metadata": {},
   "outputs": [],
   "source": [
    "interactive_psv(compiled_exp)"
   ]
  },
  {
   "attachments": {},
   "cell_type": "markdown",
   "id": "daa3a73a",
   "metadata": {},
   "source": [
    "# 2D sweep example, wait time vs phase of second pulse"
   ]
  },
  {
   "attachments": {},
   "cell_type": "markdown",
   "id": "ad40d7c9",
   "metadata": {},
   "source": [
    "## Experiment"
   ]
  },
  {
   "cell_type": "code",
   "execution_count": null,
   "id": "70622fa8",
   "metadata": {},
   "outputs": [],
   "source": [
    "## constant definition\n",
    "X90_DURATION = 10e-9  # [s]\n",
    "\n",
    "START = 0\n",
    "STOP = 2 * np.pi\n",
    "STEPS = 5\n",
    "NUM_REP = 2\n",
    "\n",
    "START_DELAY = 0\n",
    "STOP_DELAY = LEN_COULOMB_CYCLE / 2 - 2 * X90_DURATION\n",
    "STEPS_DELAY = 3\n"
   ]
  },
  {
   "cell_type": "code",
   "execution_count": null,
   "id": "20f6ef49",
   "metadata": {},
   "outputs": [],
   "source": [
    "## define phase sweep parameter\n",
    "sweep_phase = LinearSweepParameter(\n",
    "    uid=\"phase_sweep\", start=START, stop=STOP, count=STEPS\n",
    ")\n",
    "sweep_delay = LinearSweepParameter(\n",
    "    uid=\"Ramsey_delay\", start=START_DELAY, stop=STOP_DELAY, count=STEPS_DELAY\n",
    ")\n",
    "\n",
    "print(sweep_phase.values / np.pi)"
   ]
  },
  {
   "cell_type": "code",
   "execution_count": null,
   "id": "6dc3e35b",
   "metadata": {},
   "outputs": [],
   "source": [
    "## Create Experiment\n",
    "exp = Experiment(\n",
    "    \"Ramsey variant I\",\n",
    "    signals=[\n",
    "        ExperimentSignal(\"drive\"),\n",
    "        ExperimentSignal(\"gate1\"),\n",
    "        ExperimentSignal(\"gate2\"),\n",
    "    ],\n",
    ")\n",
    "\n",
    "# define experiment\n",
    "with exp.acquire_loop_rt(\n",
    "    uid=\"shots\", count=NUM_REP, averaging_mode=AveragingMode.CYCLIC\n",
    "):\n",
    "    with exp.sweep(uid=\"sweep_delay\", parameter=sweep_delay):\n",
    "        with exp.sweep(uid=\"sweep_phase\", parameter=sweep_phase):\n",
    "            with exp.section(\n",
    "                uid=\"qubit_excitation\",\n",
    "                alignment=SectionAlignment.RIGHT,\n",
    "                length=LEN_COULOMB_CYCLE,\n",
    "            ):\n",
    "                exp.play(signal=\"gate1\", pulse=coulomb_pulse, amplitude=0.5)\n",
    "                exp.play(signal=\"gate1\", pulse=coulomb_pulse, amplitude=0.75)\n",
    "\n",
    "                exp.play(signal=\"gate2\", pulse=coulomb_pulse, amplitude=0.5)\n",
    "                exp.play(signal=\"gate2\", pulse=coulomb_pulse, amplitude=0.75)\n",
    "\n",
    "                exp.play(signal=\"drive\", pulse=drive_pulse, set_oscillator_phase=0)\n",
    "                exp.delay(signal=\"drive\", time=sweep_delay)\n",
    "                exp.play(\n",
    "                    signal=\"drive\",\n",
    "                    pulse=drive_pulse,\n",
    "                    increment_oscillator_phase=sweep_phase,\n",
    "                )\n",
    "            with exp.section(\n",
    "                uid=\"qubit_readout\",\n",
    "                alignment=SectionAlignment.RIGHT,\n",
    "                length=LEN_READOUT,\n",
    "            ):\n",
    "                exp.play(signal=\"gate1\", pulse=coulomb_readout, amplitude=0.3)\n",
    "                exp.play(signal=\"gate2\", pulse=coulomb_readout, amplitude=0.3)\n",
    "            with exp.section(\n",
    "                uid=\"outer_trigger\",\n",
    "                length=LEN_READOUT,\n",
    "                trigger={\"drive\": {\"state\": 1}},\n",
    "                alignment=SectionAlignment.RIGHT,\n",
    "            ):\n",
    "                with exp.section(\n",
    "                    uid=\"inner_trigger\",\n",
    "                    length=LEN_READOUT - 100e-9,\n",
    "                    trigger={\"drive\": {\"state\": 2}},\n",
    "                ):\n",
    "                    exp.reserve(signal=\"drive\")\n"
   ]
  },
  {
   "cell_type": "code",
   "execution_count": null,
   "id": "2f72836b",
   "metadata": {},
   "outputs": [],
   "source": [
    "# create and connect to session\n",
    "session = Session(device_setup=device_setup)\n",
    "session.connect(do_emulation=DO_EMULATION)\n",
    "\n",
    "# set experiment calibration and signal map\n",
    "exp.set_calibration(calib_q0)\n",
    "exp.set_signal_map(map_q0)\n",
    "\n",
    "session.run(exp)"
   ]
  },
  {
   "attachments": {},
   "cell_type": "markdown",
   "id": "519cb971",
   "metadata": {},
   "source": [
    "## View experiment in pulse sheet viewer"
   ]
  },
  {
   "cell_type": "code",
   "execution_count": null,
   "id": "57bd0c30",
   "metadata": {},
   "outputs": [],
   "source": [
    "# use pulse sheet viewer to display the pulse sequence - only recommended for small number of averages and sweep steps to avoid performance issues\n",
    "compiled_exp = session.compiled_experiment\n",
    "show_pulse_sheet(\"2D example\", compiled_exp)\n",
    "\n"
   ]
  }
 ],
 "metadata": {
  "hide_input": false,
  "kernelspec": {
   "display_name": "Python 3 (ipykernel)",
   "language": "python",
   "name": "python3"
  },
  "language_info": {
   "codemirror_mode": {
    "name": "ipython",
    "version": 3
   },
   "file_extension": ".py",
   "mimetype": "text/x-python",
   "name": "python",
   "nbconvert_exporter": "python",
   "pygments_lexer": "ipython3",
   "version": "3.10.9"
  },
  "toc": {
   "base_numbering": 1,
   "nav_menu": {},
   "number_sections": true,
   "sideBar": true,
   "skip_h1_title": false,
   "title_cell": "Table of Contents",
   "title_sidebar": "Contents",
   "toc_cell": false,
   "toc_position": {},
   "toc_section_display": true,
   "toc_window_display": true
  },
  "varInspector": {
   "cols": {
    "lenName": 16,
    "lenType": 16,
    "lenVar": 40
   },
   "kernels_config": {
    "python": {
     "delete_cmd_postfix": "",
     "delete_cmd_prefix": "del ",
     "library": "var_list.py",
     "varRefreshCmd": "print(var_dic_list())"
    },
    "r": {
     "delete_cmd_postfix": ") ",
     "delete_cmd_prefix": "rm(",
     "library": "var_list.r",
     "varRefreshCmd": "cat(var_dic_list()) "
    }
   },
   "types_to_exclude": [
    "module",
    "function",
    "builtin_function_or_method",
    "instance",
    "_Feature"
   ],
   "window_display": false
  },
  "vscode": {
   "interpreter": {
    "hash": "1e2348b99e9b57c06dda9e7900ba673dbbad3d2fc82d9d0b061682349b938991"
   }
  }
 },
 "nbformat": 4,
 "nbformat_minor": 5
}
