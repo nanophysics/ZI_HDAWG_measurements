{
 "cells": [
  {
   "attachments": {},
   "cell_type": "markdown",
   "id": "46cfbe23",
   "metadata": {},
   "source": [
    "# Spin Qubit Pulse Sequences with the HDAWG"
   ]
  },
  {
   "attachments": {},
   "cell_type": "markdown",
   "id": "4a5e08b0",
   "metadata": {},
   "source": [
    "This notebook shows you how to use pulse sequences with an HDAWG to realize various experiments. While the sequences are mostly general, they are adapted to those typically used for spin qubits by adding the gate pulsing to control between Coulomb and spin blockade."
   ]
  },
  {
   "attachments": {},
   "cell_type": "markdown",
   "id": "3647462f",
   "metadata": {},
   "source": [
    "# General Imports"
   ]
  },
  {
   "cell_type": "code",
   "execution_count": 4,
   "id": "9c56cac7",
   "metadata": {
    "ExecuteTime": {
     "end_time": "2021-10-01T06:52:59.392055Z",
     "start_time": "2021-10-01T06:52:57.155702Z"
    }
   },
   "outputs": [
    {
     "name": "stdout",
     "output_type": "stream",
     "text": [
      "2.11.0\n"
     ]
    }
   ],
   "source": [
    "%config IPCompleter.greedy=True\n",
    "\n",
    "# import matplotlib.pyplot as plt\n",
    "import numpy as np\n",
    "import time\n",
    "import zhinst.core\n",
    "import laboneq\n",
    "from laboneq.simple import *\n",
    "import ctypes\n",
    "import helpers\n",
    "import matplotlib.pyplot as plt\n",
    "from picosdk.ps5000a import ps5000a as ps\n",
    "from picosdk.functions import adc2mV, assert_pico_ok, mV2adc\n",
    "import picoscope_module as pm\n",
    "#install_token(\"LabOneQ.AllQuantumInOne.\")\n",
    "DO_EMULATION = False # run in emulation mode by default\n",
    "\n",
    "print(laboneq.__version__)"
   ]
  },
  {
   "cell_type": "markdown",
   "id": "7b0cf0f1",
   "metadata": {},
   "source": [
    "# Sampling card setup"
   ]
  },
  {
   "attachments": {},
   "cell_type": "markdown",
   "id": "bed6f007",
   "metadata": {},
   "source": [
    "## Define parameters for experiment"
   ]
  },
  {
   "cell_type": "code",
   "execution_count": 5,
   "id": "731f4d3c",
   "metadata": {},
   "outputs": [],
   "source": [
    "points_map={\n",
    "    'level1': [0.2, -0.2], #load 02\n",
    "    'level2': [0, 0], #anchor\n",
    "    'level3': [-0.2, 0.2], #load 11\n",
    "    'level4': [-0.2, -0.2], #unload/initilize\n",
    "}\n",
    "\n",
    "\n",
    "times_map = {\n",
    "             'load_time': 20e-3,\n",
    "             'anchor_time': 5e-3,\n",
    "             'read_time':20e-3,\n",
    "             'unload_time': 40e-3, \n",
    "             'trigger_time': 1e-3}"
   ]
  },
  {
   "attachments": {},
   "cell_type": "markdown",
   "id": "e66d0291",
   "metadata": {},
   "source": [
    "## Device Setup\n",
    "\n",
    "Picoscope and HDAWG"
   ]
  },
  {
   "cell_type": "code",
   "execution_count": 6,
   "id": "b5b5a4d2",
   "metadata": {},
   "outputs": [
    {
     "data": {
      "text/plain": [
       "{'maximumValue': 0,\n",
       " 'setTriggerChannelPropertiesV2': 0,\n",
       " 'setTriggerChannelConditionsV2': 0,\n",
       " 'setTriggerChannelDirections': 0}"
      ]
     },
     "execution_count": 6,
     "metadata": {},
     "output_type": "execute_result"
    }
   ],
   "source": [
    "timebase = 628\n",
    "preTriggerSamples = 10\n",
    "pico_sampling_rate = (timebase - 3) / 62500000\n",
    "postTriggerSamples = int(np.ceil(50e-3/pico_sampling_rate)) #Measurment length was 8\n",
    "TriggerLevel=1\n",
    "\n",
    "maxSamples = preTriggerSamples + postTriggerSamples\n",
    "ready = ctypes.c_int16(0)\n",
    "check = ctypes.c_int16(0)\n",
    "maxADC = ctypes.c_int16()\n",
    "\n",
    "chandle, status = pm.initialize_picoscope()\n",
    "chARange, chBRange, status = pm.setup_channels(chandle)\n",
    "# find maximum ADC count value\n",
    "\n",
    "pm.setup_trigger(chandle, chARange, chBRange, maxADC,TriggerLevel)\n",
    "\n",
    "# Get timebase information"
   ]
  },
  {
   "attachments": {},
   "cell_type": "markdown",
   "id": "a36a3823",
   "metadata": {},
   "source": [
    "## Create device setup -HDAWG"
   ]
  },
  {
   "cell_type": "code",
   "execution_count": 7,
   "id": "f142cff7",
   "metadata": {},
   "outputs": [
    {
     "name": "stderr",
     "output_type": "stream",
     "text": [
      "c:\\Users\\B15measure2\\anaconda3\\envs\\laboneq\\lib\\site-packages\\laboneq\\dsl\\device\\_device_setup_generator.py:1104: FutureWarning: 'instrument_list' section is deprecated in setup descriptor, use 'instruments' instead.\n",
      "  warnings.warn(\n"
     ]
    }
   ],
   "source": [
    "descriptor=\"\"\"\n",
    "instrument_list:\n",
    "  HDAWG:\n",
    "  - address: DEV8721\n",
    "    uid: device_hdawg\n",
    "    interface: usb\n",
    "connections:\n",
    "  device_hdawg:\n",
    "    - rf_signal: q0/fg4_line\n",
    "      ports: [SIGOUTS/0]\n",
    "    - rf_signal: q0/fg6_line\n",
    "      ports: [SIGOUTS/1]\n",
    "\"\"\"\n",
    "#Change back to to SIGOUTS/2 and SIGOUTS/3\n",
    "#And change fg8 and fg9\n",
    "device_setup = DeviceSetup.from_descriptor(\n",
    "    descriptor,\n",
    "    server_host=\"127.0.0.1\",\n",
    "    server_port=\"8004\",\n",
    "    setup_name=\"ZI_HDAWG\",\n",
    ")"
   ]
  },
  {
   "attachments": {},
   "cell_type": "markdown",
   "id": "04cd28fe",
   "metadata": {},
   "source": [
    "# S-T readout"
   ]
  },
  {
   "cell_type": "code",
   "execution_count": 8,
   "id": "18e122d5",
   "metadata": {},
   "outputs": [],
   "source": [
    "# define pulse shapes\n",
    "@pulse_library.register_pulse_functional\n",
    "def ramp(x,start=0,stop=1 , **_):\n",
    "    pulse=start+ (stop-start)*(x+1)/2 # Time normalized to (-1,1)\n",
    "    return pulse\n",
    "\n",
    "\n",
    "\n",
    "compress_level_pulse_level1_gate1=pulse_library.const(uid=\"compress_levell1g1\",length=times_map['load_time'],amplitude=points_map['level1'][0],can_compress=True)\n",
    "compress_level_pulse_level1_gate2=pulse_library.const(uid=\"compress_levell1g2\",length=times_map['load_time'],amplitude=points_map['level1'][1],can_compress=True)\n",
    "compress_level_pulse_level2_gate1=pulse_library.const(uid=\"compress_levell2g1\",length=times_map['anchor_time'],amplitude=points_map['level2'][0],can_compress=True)\n",
    "compress_level_pulse_level2_gate2=pulse_library.const(uid=\"compress_levell2g2\",length=times_map['anchor_time'],amplitude=points_map['level2'][1],can_compress=True)\n",
    "compress_level_pulse_level3_gate1=pulse_library.const(uid=\"compress_levell3g1\",length=times_map['read_time'],amplitude=points_map['level3'][0],can_compress=True)\n",
    "compress_level_pulse_level3_gate2=pulse_library.const(uid=\"compress_levell3g2\",length=times_map['read_time'],amplitude=points_map['level3'][1],can_compress=True)\n",
    "compress_level_pulse_level4_gate1=pulse_library.const(uid=\"compress_levell4g1\",length=times_map['unload_time'],amplitude=points_map['level4'][0],can_compress=True)\n",
    "compress_level_pulse_level4_gate2=pulse_library.const(uid=\"compress_levell4g2\",length=times_map['unload_time'],amplitude=points_map['level4'][1],can_compress=True)"
   ]
  },
  {
   "cell_type": "code",
   "execution_count": 11,
   "id": "2c7cc860",
   "metadata": {
    "ExecuteTime": {
     "end_time": "2021-10-01T06:55:24.645031Z",
     "start_time": "2021-10-01T06:55:06.983252Z"
    }
   },
   "outputs": [],
   "source": [
    "## Create Experiment\n",
    "exp = Experiment(\n",
    "    \"Singlet-triplet qubit example\",\n",
    "    signals=[\n",
    "        ExperimentSignal(\"gate1\"),\n",
    "        ExperimentSignal(\"gate2\"),\n",
    "    ],\n",
    ")\n",
    "\n",
    "# define experiment\n",
    "NUM_REP = 50\n",
    "\n",
    "\n",
    "with exp.acquire_loop_rt(  #This is no loop, he executes this ones\n",
    "    uid=(\"shots\"), count=NUM_REP, averaging_mode=AveragingMode.SEQUENTIAL\n",
    "):\n",
    "    #with exp.section(\n",
    "    #     uid=\"outer_trigger\", \n",
    "    #     length=times_map['trigger_time'],\n",
    "    #     alignment=SectionAlignment.LEFT):\n",
    "    #     exp.reserve(signal=\"gate3\")\n",
    "\n",
    "    with exp.section(\n",
    "        uid=(\"level1\"),\n",
    "        length=times_map['load_time'], \n",
    "        trigger={\"gate1\": {\"state\": 1}}, \n",
    "        alignment=SectionAlignment.LEFT,\n",
    "    ):\n",
    "        exp.play(signal=\"gate1\", pulse=compress_level_pulse_level1_gate1)\n",
    "        exp.play(signal=\"gate2\", pulse=compress_level_pulse_level1_gate2)    \n",
    "    with exp.section(\n",
    "        uid=(\"level2\"),\n",
    "        length=times_map['anchor_time'], \n",
    "        alignment=SectionAlignment.LEFT,\n",
    "    ):\n",
    "        exp.play(signal=\"gate1\", pulse=compress_level_pulse_level2_gate1)\n",
    "        exp.play(signal=\"gate2\", pulse=compress_level_pulse_level2_gate2)\n",
    "\n",
    "    with exp.section(\n",
    "        uid=(\"level3\"),\n",
    "        length=times_map['read_time'], \n",
    "        alignment=SectionAlignment.LEFT,\n",
    "    ):\n",
    "        exp.play(signal=\"gate1\", pulse=compress_level_pulse_level3_gate1)\n",
    "        exp.play(signal=\"gate2\", pulse=compress_level_pulse_level3_gate2)\n",
    "\n",
    "    with exp.section(\n",
    "        uid=(\"level4\"),\n",
    "        length=times_map['unload_time'], \n",
    "        alignment=SectionAlignment.LEFT,\n",
    "    ):\n",
    "        exp.play(signal=\"gate1\", pulse=compress_level_pulse_level3_gate1)\n",
    "        exp.play(signal=\"gate2\", pulse=compress_level_pulse_level3_gate2)"
   ]
  },
  {
   "cell_type": "code",
   "execution_count": 12,
   "id": "eb3407dd",
   "metadata": {},
   "outputs": [],
   "source": [
    "# shortcut to the logical signal group q0\n",
    "lsg = device_setup.logical_signal_groups[\"q0\"].logical_signals\n",
    "\n",
    "# define signal map\n",
    "map_signals = {\n",
    "    \"gate1\" : lsg[\"fg4_line\"],\n",
    "    \"gate2\" : lsg[\"fg6_line\"]\n",
    "}"
   ]
  },
  {
   "cell_type": "code",
   "execution_count": 13,
   "id": "bd21a36c",
   "metadata": {},
   "outputs": [
    {
     "name": "stdout",
     "output_type": "stream",
     "text": [
      "2023.08.02 15:56:32.071 laboneq.controller.laboneq_logging INFO   Logging initialized from [Default inline config in laboneq.controller.laboneq_logging] logdir is c:\\Users\\B15measure2\\HDAWG\\laboneq_output\\log\n",
      "2023.08.02 15:56:32.073 laboneq.controller.controller  INFO   VERSION: laboneq 2.11.0\n",
      "2023.08.02 15:56:32.077 laboneq.controller.devices.device_collection INFO   Connecting to data server at 127.0.0.1:8004\n"
     ]
    },
    {
     "name": "stdout",
     "output_type": "stream",
     "text": [
      "2023.08.02 15:56:32.326 laboneq.controller.communication INFO   Connected to Zurich Instruments LabOne Data Server version 23.02 at 127.0.0.1:8004\n",
      "2023.08.02 15:56:32.605 laboneq.controller.devices.device_collection INFO   Configuring the device setup\n",
      "2023.08.02 15:56:32.802 laboneq.controller.devices.device_collection INFO   The device setup is configured\n",
      "Loaded exp\n",
      "2023.08.02 15:56:33.044 laboneq.compiler.workflow.compiler INFO   Starting LabOne Q Compiler run...\n",
      "2023.08.02 15:56:33.056 laboneq.compiler.scheduler.scheduler INFO   Schedule completed\n",
      "2023.08.02 15:56:58.334 laboneq.compiler.workflow.compiler INFO   Total seqC lines generated: 46\n",
      "2023.08.02 15:56:58.336 laboneq.compiler.workflow.compiler INFO   Total sample points generated: 192\n",
      "2023.08.02 15:56:58.337 laboneq.compiler.workflow.compiler INFO   Finished LabOne Q Compiler run.\n",
      "2023.08.02 15:56:58.620 laboneq.controller.devices.device_collection INFO   Configuring the device setup\n",
      "2023.08.02 15:56:58.793 laboneq.controller.devices.device_collection INFO   The device setup is configured\n",
      "2023.08.02 15:56:59.087 laboneq.controller.controller  INFO   Starting near-time execution...\n",
      "2023.08.02 15:57:03.605 laboneq.controller.controller  INFO   Finished near-time execution.\n",
      "Running exp finished\n"
     ]
    },
    {
     "data": {
      "text/plain": [
       "{'GetValuesBulk': 0}"
      ]
     },
     "execution_count": 13,
     "metadata": {},
     "output_type": "execute_result"
    }
   ],
   "source": [
    "source = ps.PS5000A_CHANNEL[\"PS5000A_CHANNEL_B\"] #set the buffer\n",
    "noOfCaptures = NUM_REP\n",
    "status,timeIntervalns = pm.capture_rapid_data_block(chandle, preTriggerSamples, postTriggerSamples, timebase, maxSamples,noOfCaptures)\n",
    "\n",
    "\n",
    "# # create and connect to session\n",
    "session = Session(device_setup=device_setup)\n",
    "session.connect(do_emulation=DO_EMULATION)\n",
    "# set experiment calibration and signal map\n",
    "exp.set_signal_map(map_signals)\n",
    "\n",
    "\n",
    "\n",
    "if not session.connection_state.emulated:\n",
    "    instrument_serial = device_setup.instrument_by_uid(\"device_hdawg\").address\n",
    "    device = session.devices[instrument_serial]\n",
    "    device.triggers.out[2].delay(23.9e-9)\n",
    "print(\"Loaded exp\")\n",
    "session.run(exp)\n",
    "print(\"Running exp finished\")\n",
    "# Check for data collection to finish using ps5000aIsReady\n",
    "while ready.value == check.value:\n",
    "    status[\"isReady\"] = ps.ps5000aIsReady(chandle, ctypes.byref(ready))\n",
    "\n",
    "buffersMax, buffersMin = pm.create_rapid_buffer(chandle, source, maxSamples, noOfCaptures)\n",
    "pm.getValuesRapid(chandle,maxSamples,noOfCaptures)"
   ]
  },
  {
   "cell_type": "code",
   "execution_count": 14,
   "id": "494175d0",
   "metadata": {},
   "outputs": [
    {
     "ename": "",
     "evalue": "",
     "output_type": "error",
     "traceback": [
      "\u001b[1;31mCannot execute code, session has been disposed. Please try restarting the Kernel."
     ]
    },
    {
     "ename": "",
     "evalue": "",
     "output_type": "error",
     "traceback": [
      "\u001b[1;31mThe Kernel crashed while executing code in the the current cell or a previous cell. Please review the code in the cell(s) to identify a possible cause of the failure. Click <a href='https://aka.ms/vscodeJupyterKernelCrash'>here</a> for more info. View Jupyter <a href='command:jupyter.viewOutput'>log</a> for further details."
     ]
    }
   ],
   "source": [
    "# convert ADC counts data to mV\n",
    "cmaxSamples = ctypes.c_int32(maxSamples)\n",
    "\n",
    "# Create time data\n",
    "time_stamp=int(time.time())\n",
    "time_array = np.linspace(0, (cmaxSamples.value - 1) * timeIntervalns.value, cmaxSamples.value)\n",
    "with open('Data/data_%s.npy'%(time_stamp), 'wb') as f:\n",
    "    np.save(f,time_array)\n",
    "    for i in range(noOfCaptures):\n",
    "        np.save(f,adc2mV(buffersMax[i], chARange, maxADC))\n",
    "with open('Data/data_%s.txt'%time_stamp, 'w') as f:\n",
    "    f.write(str(points_map)+'\\n')\n",
    "    f.write(str(times_map)+'\\n')\n",
    "    #f.write(exp)\n",
    "\n",
    "\n",
    "\n",
    "# display status returns\n",
    "# print(status)\n",
    "\n",
    "# Stop the scope\n",
    "status[\"stop\"] = ps.ps5000aStop(chandle)\n",
    "assert_pico_ok(status[\"stop\"])\n",
    "\n",
    "\n",
    "# # Close unit Disconnect the scope\n",
    "# status[\"close\"]=ps.ps5000aCloseUnit(chandle)\n",
    "# assert_pico_ok(status[\"close\"])"
   ]
  },
  {
   "cell_type": "code",
   "execution_count": 10,
   "id": "a0365418",
   "metadata": {},
   "outputs": [
    {
     "data": {
      "text/plain": [
       "(-26.977345093132314, 22.68440809350871)"
      ]
     },
     "execution_count": 10,
     "metadata": {},
     "output_type": "execute_result"
    },
    {
     "data": {
      "image/png": "[encoded data removed]",
      "text/plain": [
       "<Figure size 640x480 with 1 Axes>"
      ]
     },
     "metadata": {},
     "output_type": "display_data"
    }
   ],
   "source": [
    "with open('Data/data_%s.npy'%(time_stamp), 'rb') as f:\n",
    "    time_array=np.load(f)\n",
    "    plt.plot(time_array, np.load(f)/30)\n",
    "    plt.plot(time_array,np.load(f)/30)\n",
    "    plt.plot(time_array,np.load(f)/30)\n",
    "    plt.plot(time_array,np.load(f)/30)\n",
    "    plt.plot(time_array,np.load(f)/30)\n",
    "plt.xlabel('Time (ns)')\n",
    "plt.ylabel('Voltage (mV)')\n",
    "plt.ylim()"
   ]
  },
  {
   "cell_type": "code",
   "execution_count": 15,
   "id": "a94e4771",
   "metadata": {},
   "outputs": [
    {
     "name": "stdout",
     "output_type": "stream",
     "text": [
      "1690552004\n"
     ]
    }
   ],
   "source": [
    "import time\n",
    "print(int(time.time()))"
   ]
  },
  {
   "attachments": {},
   "cell_type": "markdown",
   "id": "05562c77",
   "metadata": {},
   "source": [
    "### View experiment in pulse sheet viewer\n",
    "\n",
    "To-do: \n",
    "1. Add stability diagram visualization"
   ]
  },
  {
   "cell_type": "code",
   "execution_count": 10,
   "id": "a286c938",
   "metadata": {},
   "outputs": [
    {
     "name": "stdout",
     "output_type": "stream",
     "text": [
      "2023.07.28 15:18:52.558 laboneq.pulse_sheet_viewer.pulse_sheet_viewer INFO   Writing html file to c:\\Users\\B15measure2\\HDAWG\\laboneq_output\\ST pulse test_2023-07-28-15-18-52.html\n"
     ]
    },
    {
     "data": {
      "text/html": [
       "<a href='.\\laboneq_output\\ST pulse test_2023-07-28-15-18-52.html' target='_blank'>.\\laboneq_output\\ST pulse test_2023-07-28-15-18-52.html</a><br>"
      ],
      "text/plain": [
       "c:\\Users\\B15measure2\\HDAWG\\laboneq_output\\ST pulse test_2023-07-28-15-18-52.html"
      ]
     },
     "execution_count": 10,
     "metadata": {},
     "output_type": "execute_result"
    }
   ],
   "source": [
    "# use pulse sheet viewer to display the pulse sequence - only recommended for small number of averages and sweep steps to avoid performance issues\n",
    "compiled_exp = session.compiled_experiment\n",
    "show_pulse_sheet(\".\\laboneq_output\\ST pulse test\", compiled_exp)"
   ]
  },
  {
   "cell_type": "code",
   "execution_count": 11,
   "id": "96071c39",
   "metadata": {},
   "outputs": [
    {
     "data": {
      "text/html": [
       "\n",
       "        <iframe\n",
       "            width=\"100%\"\n",
       "            height=\"700\"\n",
       "            src=\"http://127.0.0.1:53739/psv.html\"\n",
       "            frameborder=\"0\"\n",
       "            allowfullscreen\n",
       "            \n",
       "        ></iframe>\n",
       "        "
      ],
      "text/plain": [
       "<IPython.lib.display.IFrame at 0x169a053ec80>"
      ]
     },
     "metadata": {},
     "output_type": "display_data"
    }
   ],
   "source": [
    "helpers.interactive_psv(compiled_exp)"
   ]
  },
  {
   "attachments": {},
   "cell_type": "markdown",
   "id": "daa3a73a",
   "metadata": {},
   "source": [
    "# 2D sweep example, wait time vs phase of second pulse"
   ]
  },
  {
   "attachments": {},
   "cell_type": "markdown",
   "id": "ad40d7c9",
   "metadata": {},
   "source": [
    "## Experiment"
   ]
  },
  {
   "cell_type": "code",
   "execution_count": null,
   "id": "70622fa8",
   "metadata": {},
   "outputs": [],
   "source": [
    "## constant definition\n",
    "X90_DURATION = 10e-9  # [s]\n",
    "\n",
    "START = 0\n",
    "STOP = 2 * np.pi\n",
    "STEPS = 5\n",
    "NUM_REP = 2\n",
    "\n",
    "START_DELAY = 0\n",
    "STOP_DELAY = LEN_COULOMB_CYCLE / 2 - 2 * X90_DURATION\n",
    "STEPS_DELAY = 3\n"
   ]
  },
  {
   "cell_type": "code",
   "execution_count": null,
   "id": "20f6ef49",
   "metadata": {},
   "outputs": [],
   "source": [
    "## define phase sweep parameter\n",
    "sweep_phase = LinearSweepParameter(\n",
    "    uid=\"phase_sweep\", start=START, stop=STOP, count=STEPS\n",
    ")\n",
    "sweep_delay = LinearSweepParameter(\n",
    "    uid=\"Ramsey_delay\", start=START_DELAY, stop=STOP_DELAY, count=STEPS_DELAY\n",
    ")\n",
    "\n",
    "print(sweep_phase.values / np.pi)"
   ]
  },
  {
   "cell_type": "code",
   "execution_count": null,
   "id": "6dc3e35b",
   "metadata": {},
   "outputs": [],
   "source": [
    "## Create Experiment\n",
    "exp = Experiment(\n",
    "    \"Ramsey variant I\",\n",
    "    signals=[\n",
    "        ExperimentSignal(\"drive\"),\n",
    "        ExperimentSignal(\"gate1\"),\n",
    "        ExperimentSignal(\"gate2\"),\n",
    "    ],\n",
    ")\n",
    "\n",
    "# define experiment\n",
    "with exp.acquire_loop_rt(\n",
    "    uid=\"shots\", count=NUM_REP, averaging_mode=AveragingMode.CYCLIC\n",
    "):\n",
    "    with exp.sweep(uid=\"sweep_delay\", parameter=sweep_delay):\n",
    "        with exp.sweep(uid=\"sweep_phase\", parameter=sweep_phase):\n",
    "            with exp.section(\n",
    "                uid=\"qubit_excitation\",\n",
    "                alignment=SectionAlignment.RIGHT,\n",
    "                length=LEN_COULOMB_CYCLE,\n",
    "            ):\n",
    "                exp.play(signal=\"gate1\", pulse=coulomb_pulse, amplitude=0.5)\n",
    "                exp.play(signal=\"gate1\", pulse=coulomb_pulse, amplitude=0.75)\n",
    "\n",
    "                exp.play(signal=\"gate2\", pulse=coulomb_pulse, amplitude=0.5)\n",
    "                exp.play(signal=\"gate2\", pulse=coulomb_pulse, amplitude=0.75)\n",
    "\n",
    "                exp.play(signal=\"drive\", pulse=drive_pulse, set_oscillator_phase=0)\n",
    "                exp.delay(signal=\"drive\", time=sweep_delay)\n",
    "                exp.play(\n",
    "                    signal=\"drive\",\n",
    "                    pulse=drive_pulse,\n",
    "                    increment_oscillator_phase=sweep_phase,\n",
    "                )\n",
    "            with exp.section(\n",
    "                uid=\"qubit_readout\",\n",
    "                alignment=SectionAlignment.RIGHT,\n",
    "                length=LEN_READOUT,\n",
    "            ):\n",
    "                exp.play(signal=\"gate1\", pulse=coulomb_readout, amplitude=0.3)\n",
    "                exp.play(signal=\"gate2\", pulse=coulomb_readout, amplitude=0.3)\n",
    "            with exp.section(\n",
    "                uid=\"outer_trigger\",\n",
    "                length=LEN_READOUT,\n",
    "                trigger={\"drive\": {\"state\": 1}},\n",
    "                alignment=SectionAlignment.RIGHT,\n",
    "            ):\n",
    "                with exp.section(\n",
    "                    uid=\"inner_trigger\",\n",
    "                    length=LEN_READOUT - 100e-9,\n",
    "                    trigger={\"drive\": {\"state\": 2}},\n",
    "                ):\n",
    "                    exp.reserve(signal=\"drive\")\n"
   ]
  },
  {
   "cell_type": "code",
   "execution_count": null,
   "id": "2f72836b",
   "metadata": {},
   "outputs": [],
   "source": [
    "# create and connect to session\n",
    "session = Session(device_setup=device_setup)\n",
    "session.connect(do_emulation=DO_EMULATION)\n",
    "\n",
    "# set experiment calibration and signal map\n",
    "exp.set_calibration(calib_q0)\n",
    "exp.set_signal_map(map_q0)\n",
    "\n",
    "session.run(exp)"
   ]
  },
  {
   "attachments": {},
   "cell_type": "markdown",
   "id": "519cb971",
   "metadata": {},
   "source": [
    "## View experiment in pulse sheet viewer"
   ]
  },
  {
   "cell_type": "code",
   "execution_count": null,
   "id": "57bd0c30",
   "metadata": {},
   "outputs": [],
   "source": [
    "# use pulse sheet viewer to display the pulse sequence - only recommended for small number of averages and sweep steps to avoid performance issues\n",
    "compiled_exp = session.compiled_experiment\n",
    "show_pulse_sheet(\"2D example\", compiled_exp)\n",
    "\n"
   ]
  }
 ],
 "metadata": {
  "hide_input": false,
  "kernelspec": {
   "display_name": "Python 3 (ipykernel)",
   "language": "python",
   "name": "python3"
  },
  "language_info": {
   "codemirror_mode": {
    "name": "ipython",
    "version": 3
   },
   "file_extension": ".py",
   "mimetype": "text/x-python",
   "name": "python",
   "nbconvert_exporter": "python",
   "pygments_lexer": "ipython3",
   "version": "3.10.12"
  },
  "toc": {
   "base_numbering": 1,
   "nav_menu": {},
   "number_sections": true,
   "sideBar": true,
   "skip_h1_title": false,
   "title_cell": "Table of Contents",
   "title_sidebar": "Contents",
   "toc_cell": false,
   "toc_position": {},
   "toc_section_display": true,
   "toc_window_display": true
  },
  "varInspector": {
   "cols": {
    "lenName": 16,
    "lenType": 16,
    "lenVar": 40
   },
   "kernels_config": {
    "python": {
     "delete_cmd_postfix": "",
     "delete_cmd_prefix": "del ",
     "library": "var_list.py",
     "varRefreshCmd": "print(var_dic_list())"
    },
    "r": {
     "delete_cmd_postfix": ") ",
     "delete_cmd_prefix": "rm(",
     "library": "var_list.r",
     "varRefreshCmd": "cat(var_dic_list()) "
    }
   },
   "types_to_exclude": [
    "module",
    "function",
    "builtin_function_or_method",
    "instance",
    "_Feature"
   ],
   "window_display": false
  },
  "vscode": {
   "interpreter": {
    "hash": "1e2348b99e9b57c06dda9e7900ba673dbbad3d2fc82d9d0b061682349b938991"
   }
  }
 },
 "nbformat": 4,
 "nbformat_minor": 5
}
