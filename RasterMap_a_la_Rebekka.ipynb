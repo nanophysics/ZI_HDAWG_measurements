{
 "cells": [
  {
   "cell_type": "code",
   "execution_count": 1,
   "metadata": {},
   "outputs": [
    {
     "name": "stdout",
     "output_type": "stream",
     "text": [
      "2.11.0\n"
     ]
    }
   ],
   "source": [
    "%config IPCompleter.greedy=True\n",
    "\n",
    "# import matplotlib.pyplot as plt\n",
    "import numpy as np\n",
    "import time\n",
    "import zhinst.core\n",
    "import laboneq\n",
    "from laboneq.simple import *\n",
    "import ctypes\n",
    "import helpers\n",
    "import matplotlib.pyplot as plt\n",
    "from picosdk.ps5000a import ps5000a as ps\n",
    "from picosdk.functions import adc2mV, assert_pico_ok, mV2adc\n",
    "import picoscope_module as pm\n",
    "#install_token(\"LabOneQ.AllQuantumInOne.\")\n",
    "DO_EMULATION = False # run in emulation mode by default\n",
    "\n",
    "print(laboneq.__version__)"
   ]
  },
  {
   "cell_type": "code",
   "execution_count": 2,
   "metadata": {},
   "outputs": [],
   "source": [
    "points_map={\n",
    "    'level1': [-0.1, 0.1], \n",
    "    'level2': [0.1, -0.1],\n",
    "\n",
    " \n",
    "}\n",
    "\n",
    "\n",
    "times_map = {'pulse_time': 1e-3, #was 10\n",
    "             'dead_time': 10e-3,\n",
    "             'trigger_time': 1e-3}\n",
    "\n",
    "\n",
    "START = -0.1 \n",
    "STOP = 0.1\n",
    "STEPS = 4 \n",
    "\n",
    "## define length sweep parameter\n",
    "level_sweep_parameter = LinearSweepParameter(\n",
    "    uid=\"gate2_sweep\", start=START, stop=STOP, count=STEPS,)\n",
    "\n",
    "\n",
    "no_level_sweep_parameter_1 = LinearSweepParameter(\n",
    "    uid=\"gate2_sweep\", start=START, stop=START, count=STEPS,)\n",
    "\n",
    "\n",
    "no_level_sweep_parameter_2 = LinearSweepParameter(\n",
    "    uid=\"gate2_sweep\", start=STOP, stop=STOP, count=STEPS,)"
   ]
  },
  {
   "cell_type": "code",
   "execution_count": 3,
   "metadata": {},
   "outputs": [
    {
     "data": {
      "text/plain": [
       "{'maximumValue': 0,\n",
       " 'setTriggerChannelPropertiesV2': 0,\n",
       " 'setTriggerChannelConditionsV2': 0,\n",
       " 'setTriggerChannelDirections': 0}"
      ]
     },
     "execution_count": 3,
     "metadata": {},
     "output_type": "execute_result"
    }
   ],
   "source": [
    "timebase = 628\n",
    "preTriggerSamples = 10\n",
    "pico_sampling_rate = (timebase - 3) / 62500000\n",
    "postTriggerSamples = int(np.ceil(20e-3/pico_sampling_rate)) #Measurment length was 8\n",
    "TriggerLevel=1\n",
    "\n",
    "maxSamples = preTriggerSamples + postTriggerSamples\n",
    "ready = ctypes.c_int16(0)\n",
    "check = ctypes.c_int16(0)\n",
    "maxADC = ctypes.c_int16()\n",
    "\n",
    "chandle, status = pm.initialize_picoscope()\n",
    "chARange, chBRange, status = pm.setup_channels(chandle)\n",
    "# find maximum ADC count value\n",
    "\n",
    "pm.setup_trigger(chandle, chARange, chBRange, maxADC,TriggerLevel)\n"
   ]
  },
  {
   "cell_type": "code",
   "execution_count": 4,
   "metadata": {},
   "outputs": [
    {
     "name": "stderr",
     "output_type": "stream",
     "text": [
      "c:\\Users\\B15measure2\\anaconda3\\envs\\laboneq\\lib\\site-packages\\laboneq\\dsl\\device\\_device_setup_generator.py:1104: FutureWarning: 'instrument_list' section is deprecated in setup descriptor, use 'instruments' instead.\n",
      "  warnings.warn(\n"
     ]
    }
   ],
   "source": [
    "descriptor=\"\"\"\n",
    "instrument_list:\n",
    "  HDAWG:\n",
    "  - address: DEV8721\n",
    "    uid: device_hdawg\n",
    "    interface: usb\n",
    "connections:\n",
    "  device_hdawg:\n",
    "    - rf_signal: q0/fg4_line\n",
    "      ports: [SIGOUTS/0]\n",
    "    - rf_signal: q0/fg6_line\n",
    "      ports: [SIGOUTS/1]\n",
    "\"\"\"\n",
    "#Change back to to SIGOUTS/2 and SIGOUTS/3\n",
    "#And change fg8 and fg9\n",
    "device_setup = DeviceSetup.from_descriptor(\n",
    "    descriptor,\n",
    "    server_host=\"127.0.0.1\",\n",
    "    server_port=\"8004\",\n",
    "    setup_name=\"ZI_HDAWG\",\n",
    ")"
   ]
  },
  {
   "cell_type": "code",
   "execution_count": 5,
   "metadata": {},
   "outputs": [],
   "source": [
    "# define pulse shapes\n",
    "@pulse_library.register_pulse_functional\n",
    "def ramp(x,start=0,stop=1 , **_):\n",
    "    pulse=start+ (stop-start)*(x+1)/2 # Time normalized to (-1,1)\n",
    "    return pulse\n",
    "\n",
    "\n",
    "\n",
    "compress_level_pulse_level1_gate1=pulse_library.const(uid=\"compress_levell1g1\",length=times_map['pulse_time'],amplitude=1,can_compress=True)\n",
    "compress_level_pulse_level1_gate2=pulse_library.const(uid=\"compress_levell1g2\",length=times_map['pulse_time'],amplitude=1,can_compress=True)\n",
    "\n",
    "compress_level_pulse_level2_gate1 = pulse_library.const(uid=\"step_level_g1\",length=times_map['pulse_time'],amplitude=1,can_compress=True)\n",
    "compress_level_pulse_level2_gate2 = pulse_library.const(uid=\"step_level_g2\",length=times_map['pulse_time'],amplitude=1,can_compress=True)\n",
    "\n",
    "\n",
    "\n",
    "\n"
   ]
  },
  {
   "cell_type": "code",
   "execution_count": 6,
   "metadata": {},
   "outputs": [
    {
     "data": {
      "text/plain": [
       "'         with exp.section(\\n            uid=(\"level2\"),\\n            length=times_map[\\'pulse_time\\'], \\n            alignment=SectionAlignment.LEFT,\\n        ):\\n\\n            exp.play(signal=\"gate1\", pulse=compress_level_pulse_level2_gate1, amplitude = level_sweep_parameter)\\n            exp.play(signal=\"gate2\", pulse=compress_level_pulse_level2_gate2, amplitude = level_sweep_parameter)\\n        with exp.section(\\n            uid=(\"level3\"),\\n            length=times_map[\\'pulse_time\\'], \\n            alignment=SectionAlignment.LEFT,\\n        ):\\n            exp.play(signal=\"gate1\", pulse=compress_level_pulse_level3_gate1)\\n            exp.play(signal=\"gate2\", pulse=compress_level_pulse_level3_gate2)     '"
      ]
     },
     "execution_count": 6,
     "metadata": {},
     "output_type": "execute_result"
    }
   ],
   "source": [
    "## Create Experiment\n",
    "exp = Experiment(\n",
    "    \"Singlet-triplet qubit example\",\n",
    "    signals=[\n",
    "        ExperimentSignal(\"gate1\"),\n",
    "        ExperimentSignal(\"gate2\"),\n",
    "    ],\n",
    ")\n",
    "\n",
    "\n",
    "\n",
    "\n",
    "\n",
    "\n",
    "    # define experiment\n",
    "NUM_REP = 2\n",
    "\n",
    "with exp.acquire_loop_rt(\n",
    "    uid=(\"shots\"), count=NUM_REP, averaging_mode=AveragingMode.SEQUENTIAL\n",
    "):\n",
    "    with exp.sweep(uid='sweep', \n",
    "    parameter=level_sweep_parameter,alignment=SectionAlignment.LEFT ):\n",
    "        exp.play(signal=\"gate1\", pulse=compress_level_pulse_level1_gate1, amplitude=no_level_sweep_parameter_1)\n",
    "        exp.play(signal=\"gate2\", pulse=compress_level_pulse_level1_gate2, amplitude=no_level_sweep_parameter_1) \n",
    "        exp.play(signal=\"gate1\", pulse=compress_level_pulse_level2_gate1, amplitude = level_sweep_parameter)\n",
    "        exp.play(signal=\"gate2\", pulse=compress_level_pulse_level2_gate2, amplitude = level_sweep_parameter)\n",
    "\n",
    "\"\"\"         with exp.section(\n",
    "            uid=(\"level2\"),\n",
    "            length=times_map['pulse_time'], \n",
    "            alignment=SectionAlignment.LEFT,\n",
    "        ):\n",
    "\n",
    "            exp.play(signal=\"gate1\", pulse=compress_level_pulse_level2_gate1, amplitude = level_sweep_parameter)\n",
    "            exp.play(signal=\"gate2\", pulse=compress_level_pulse_level2_gate2, amplitude = level_sweep_parameter)\n",
    "        with exp.section(\n",
    "            uid=(\"level3\"),\n",
    "            length=times_map['pulse_time'], \n",
    "            alignment=SectionAlignment.LEFT,\n",
    "        ):\n",
    "            exp.play(signal=\"gate1\", pulse=compress_level_pulse_level3_gate1)\n",
    "            exp.play(signal=\"gate2\", pulse=compress_level_pulse_level3_gate2)     \"\"\""
   ]
  },
  {
   "cell_type": "code",
   "execution_count": 7,
   "metadata": {},
   "outputs": [],
   "source": [
    "# shortcut to the logical signal group q0\n",
    "lsg = device_setup.logical_signal_groups[\"q0\"].logical_signals\n",
    "\n",
    "# define signal map\n",
    "map_signals = {\n",
    "    \"gate1\" : lsg[\"fg4_line\"],\n",
    "    \"gate2\" : lsg[\"fg6_line\"]\n",
    "}"
   ]
  },
  {
   "cell_type": "code",
   "execution_count": 8,
   "metadata": {},
   "outputs": [
    {
     "name": "stdout",
     "output_type": "stream",
     "text": [
      "2023.08.08 18:44:44.162 laboneq.controller.laboneq_logging INFO   Logging initialized from [Default inline config in laboneq.controller.laboneq_logging] logdir is c:\\Users\\B15measure2\\HDAWG\\laboneq_output\\log\n",
      "2023.08.08 18:44:44.165 laboneq.controller.controller  INFO   VERSION: laboneq 2.11.0\n",
      "2023.08.08 18:44:44.166 laboneq.controller.devices.device_collection INFO   Connecting to data server at 127.0.0.1:8004\n"
     ]
    },
    {
     "name": "stdout",
     "output_type": "stream",
     "text": [
      "2023.08.08 18:44:44.499 laboneq.controller.communication INFO   Connected to Zurich Instruments LabOne Data Server version 23.02 at 127.0.0.1:8004\n",
      "2023.08.08 18:44:44.782 laboneq.controller.devices.device_collection INFO   Configuring the device setup\n",
      "2023.08.08 18:44:44.982 laboneq.controller.devices.device_collection INFO   The device setup is configured\n",
      "Loaded exp\n",
      "2023.08.08 18:44:45.227 laboneq.compiler.workflow.compiler INFO   Starting LabOne Q Compiler run...\n",
      "2023.08.08 18:44:45.479 laboneq.compiler.scheduler.scheduler INFO   Schedule completed\n",
      "2023.08.08 18:44:50.962 laboneq.compiler.workflow.compiler INFO   Total seqC lines generated: 59\n",
      "2023.08.08 18:44:50.965 laboneq.compiler.workflow.compiler INFO   Total sample points generated: 256\n",
      "2023.08.08 18:44:50.966 laboneq.compiler.workflow.compiler INFO   Finished LabOne Q Compiler run.\n",
      "2023.08.08 18:44:51.183 laboneq.controller.controller  INFO   Starting near-time execution...\n",
      "2023.08.08 18:44:51.577 laboneq.controller.controller  INFO   Finished near-time execution.\n",
      "Running exp finished\n"
     ]
    }
   ],
   "source": [
    "source = ps.PS5000A_CHANNEL[\"PS5000A_CHANNEL_B\"] #set the buffer\n",
    "noOfCaptures = NUM_REP\n",
    "status,timeIntervalns = pm.capture_rapid_data_block(chandle, preTriggerSamples, postTriggerSamples, timebase, maxSamples,noOfCaptures)\n",
    "\n",
    "\n",
    "# # create and connect to session\n",
    "session = Session(device_setup=device_setup)\n",
    "session.connect(do_emulation=DO_EMULATION)\n",
    "# set experiment calibration and signal map\n",
    "exp.set_signal_map(map_signals)\n",
    "\n",
    "\n",
    "\n",
    "if not session.connection_state.emulated:\n",
    "    instrument_serial = device_setup.instrument_by_uid(\"device_hdawg\").address\n",
    "    device = session.devices[instrument_serial]\n",
    "    device.triggers.out[2].delay(23.9e-9)\n",
    "print(\"Loaded exp\")\n",
    "\n",
    "session.run(exp)\n",
    "print(\"Running exp finished\")\n",
    "# Check for data collection to finish using ps5000aIsReady\n",
    "while ready.value == check.value:\n",
    "    status[\"isReady\"] = ps.ps5000aIsReady(chandle, ctypes.byref(ready))\n",
    "\n",
    "buffersMax, buffersMin = pm.create_rapid_buffer(chandle, source, maxSamples, noOfCaptures)\n",
    "pm.getValuesRapid(chandle,maxSamples,noOfCaptures)"
   ]
  },
  {
   "cell_type": "code",
   "execution_count": 9,
   "metadata": {},
   "outputs": [],
   "source": [
    "# convert ADC counts data to mV\n",
    "cmaxSamples = ctypes.c_int32(maxSamples)\n",
    "\n",
    "# Create time data\n",
    "time_stamp=int(time.time())\n",
    "time_array = np.linspace(0, (cmaxSamples.value - 1) * timeIntervalns.value, cmaxSamples.value)\n",
    "with open('Data/data_%s.npy'%(time_stamp), 'wb') as f:\n",
    "    np.save(f,time_array)\n",
    "    for i in range(noOfCaptures):\n",
    "        np.save(f,adc2mV(buffersMax[i], chARange, maxADC))\n",
    "\n",
    "\n",
    "with open('Data/data_%s.txt'%(time_stamp), 'w') as f:\n",
    "    f.write(str(points_map)+'\\n')\n",
    "    f.write(str(times_map)+'\\n')\n",
    "    #f.write(str(exp)+'\\n')\n",
    "\n",
    "\n",
    "# display status returns\n",
    "# print(status)\n",
    "\n",
    "# Stop the scope\n",
    "status[\"stop\"] = ps.ps5000aStop(chandle)\n",
    "assert_pico_ok(status[\"stop\"])\n",
    "\n",
    "\n",
    " # Close unit Disconnect the scope \n",
    "status[\"close\"]=ps.ps5000aCloseUnit(chandle)\n",
    "assert_pico_ok(status[\"close\"])"
   ]
  },
  {
   "cell_type": "code",
   "execution_count": null,
   "metadata": {},
   "outputs": [],
   "source": []
  }
 ],
 "metadata": {
  "kernelspec": {
   "display_name": "laboneq",
   "language": "python",
   "name": "python3"
  },
  "language_info": {
   "codemirror_mode": {
    "name": "ipython",
    "version": 3
   },
   "file_extension": ".py",
   "mimetype": "text/x-python",
   "name": "python",
   "nbconvert_exporter": "python",
   "pygments_lexer": "ipython3",
   "version": "3.10.12"
  },
  "orig_nbformat": 4
 },
 "nbformat": 4,
 "nbformat_minor": 2
}
