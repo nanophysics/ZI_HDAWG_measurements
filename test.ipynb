{
 "cells": [
  {
   "cell_type": "code",
   "execution_count": 7,
   "metadata": {},
   "outputs": [
    {
     "name": "stderr",
     "output_type": "stream",
     "text": [
      "c:\\Users\\Dobby\\Anaconda3\\lib\\site-packages\\laboneq\\dsl\\device\\_device_setup_generator.py:1007: FutureWarning: 'instrument_list' section is deprecated in setup descriptor, use 'instruments' instead.\n",
      "  FutureWarning,\n"
     ]
    }
   ],
   "source": [
    "# Initialization\n",
    "%config IPCompleter.greedy=True\n",
    "\n",
    "from laboneq.simple import *\n",
    "# from laboneq.simple import install_token\n",
    "# install_token(\"LabOneQ.AllQuantumInOne.\")\n",
    "\n",
    "descriptor=\"\"\"\n",
    "instrument_list:\n",
    "  HDAWG:\n",
    "  - address: DEV8721\n",
    "    uid: device_hdawg\n",
    "    interface: usb\n",
    "connections:\n",
    "  device_hdawg:\n",
    "    - rf_signal: q0/FG2_line\n",
    "      ports: [SIGOUTS/0]\n",
    "    - rf_signal: q0/FG4_line\n",
    "      ports: [SIGOUTS/1]\n",
    "    - iq_signal: q0/drive_line\n",
    "      ports: [SIGOUTS/2, SIGOUTS/3]\n",
    "\"\"\"\n",
    "device_setup = DeviceSetup.from_descriptor(\n",
    "    descriptor,\n",
    "    server_host=\"127.0.0.1\",\n",
    "    server_port=\"8004\",\n",
    "    setup_name=\"ZI_HDAWG\",\n",
    ")"
   ]
  },
  {
   "attachments": {},
   "cell_type": "markdown",
   "metadata": {},
   "source": [
    "## Define experiment"
   ]
  },
  {
   "cell_type": "code",
   "execution_count": 14,
   "metadata": {},
   "outputs": [
    {
     "name": "stdout",
     "output_type": "stream",
     "text": [
      "2023.05.19 13:51:49.522 laboneq.controller.laboneq_logging INFO   Logging initialized from [Default inline config in laboneq.controller.laboneq_logging] logdir is c:\\Users\\Dobby\\Desktop\\HDAWG\\laboneq_output\\log\n",
      "2023.05.19 13:51:49.603 laboneq.controller.controller  INFO   VERSION: laboneq 2.2.0\n",
      "2023.05.19 13:51:49.603 laboneq.controller.devices.device_collection INFO   Connecting to data server at 127.0.0.1:8004\n",
      "2023.05.19 13:51:49.760 laboneq.controller.communication INFO   Connected to Zurich Instruments LabOne Data Server version 23.02 at 127.0.0.1:8004\n",
      "2023.05.19 13:51:49.965 laboneq.controller.devices.device_collection INFO   Configuring clock sources\n",
      "2023.05.19 13:51:50.110 laboneq.controller.devices.device_collection INFO   Clock sources configured\n"
     ]
    },
    {
     "data": {
      "text/plain": [
       "<laboneq.dsl.session.ConnectionState at 0x22e8bc4ac08>"
      ]
     },
     "execution_count": 14,
     "metadata": {},
     "output_type": "execute_result"
    }
   ],
   "source": [
    "## experimental pulse sequence\n",
    "# with exp.acquire_loop_rt(\n",
    "#                 count=1,\n",
    "#                 uid=\"shots\",\n",
    "#         ):\n",
    "# create experiment object\n",
    "\n",
    "exp = Experiment(uid=\"minimal_experiment\", signals=[ExperimentSignal(\"fg2\"),ExperimentSignal(\"fg4\")],)\n",
    "with exp.section(uid=\"pulse\"):\n",
    "#play a simple pulse\n",
    "        exp.play(\n",
    "                signal=\"fg2\",\n",
    "                pulse=initialize_pulse_fg2,\n",
    "        )\n",
    "        exp.play(\n",
    "                signal=\"fg4\",\n",
    "                pulse=initialize_pulse_fg4,\n",
    "        )\n",
    "\n",
    "# shortcut to the logical signal group q0\n",
    "lsg = device_setup.logical_signal_groups[\"q0\"].logical_signals\n",
    "\n",
    "# define signal map\n",
    "map_signals = {\n",
    "    \"fg2\" : lsg[\"FG2_line\"],\n",
    "    \"fg4\" : lsg[\"FG4_line\"]\n",
    "}\n",
    "\n",
    "# apply map to the experiment\n",
    "exp.set_signal_map(map_signals)\n",
    "\n",
    "# connect to session\n",
    "emulate = False\n",
    "my_session = Session(device_setup)\n",
    "my_session.connect(do_emulation=emulate)"
   ]
  },
  {
   "cell_type": "code",
   "execution_count": 16,
   "metadata": {},
   "outputs": [
    {
     "name": "stdout",
     "output_type": "stream",
     "text": [
      "2023.05.19 13:52:01.509 laboneq.compiler.workflow.compiler INFO   Starting LabOne Q Compiler run...\n",
      "2023.05.19 13:52:01.525 laboneq.compiler.new_scheduler.scheduler INFO   Schedule completed\n",
      "2023.05.19 13:52:01.540 laboneq.compiler.workflow.compiler INFO   Total seqC lines generated: 10\n",
      "2023.05.19 13:52:01.541 laboneq.compiler.workflow.compiler INFO   Total sample points generated: 0\n",
      "2023.05.19 13:52:01.542 laboneq.compiler.workflow.compiler INFO   Finished LabOne Q Compiler run.\n",
      "2023.05.19 13:52:01.896 laboneq.controller.controller  INFO   Starting near-time execution...\n",
      "2023.05.19 13:52:01.898 laboneq.controller.controller  INFO   Finished near-time execution.\n"
     ]
    },
    {
     "data": {
      "text/plain": [
       "Results(experiment=Experiment(uid='minimal_experiment', signals={'fg2': ExperimentSignal(uid='fg2', calibration=None, mapped_logical_signal_path='/logical_signal_groups/q0/FG2_line'), 'fg4': ExperimentSignal(uid='fg4', calibration=None, mapped_logical_signal_path='/logical_signal_groups/q0/FG4_line')}, version=DSLVersion.V3_0_0, epsilon=0.0, sections=[Section(uid='pulse', alignment=SectionAlignment.LEFT, execution_type=ExecutionType.NEAR_TIME, length=None, play_after=None, children=[PlayPulse(signal='fg2', pulse=PulseFunctional(function='const', uid='p6', amplitude=0.8, length=3e-07, pulse_parameters=None), amplitude=None, increment_oscillator_phase=None, phase=None, set_oscillator_phase=None, length=None, pulse_parameters=None, precompensation_clear=None, marker=None), PlayPulse(signal='fg4', pulse=PulseFunctional(function='const', uid='p6', amplitude=0.8, length=3e-07, pulse_parameters=None), amplitude=None, increment_oscillator_phase=None, phase=None, set_oscillator_phase=None, length=None, pulse_parameters=None, precompensation_clear=None, marker=None)], trigger={}, on_system_grid=False)]), device_setup=DeviceSetup(uid='ZI_HDAWG', servers={'zi_server': DataServer(uid='zi_server', api_level=6, host='127.0.0.1', leader_uid=None, port='8004')}, instruments=[HDAWG(uid='device_hdawg', interface='usb', connections=[Connection(direction=IODirection.OUT, local_path=None, local_port='SIGOUTS/0', remote_path='/logical_signal_groups/q0/FG2_line', remote_port='0', signal_type=IOSignalType.RF), Connection(direction=IODirection.OUT, local_path=None, local_port='SIGOUTS/1', remote_path='/logical_signal_groups/q0/FG4_line', remote_port='0', signal_type=IOSignalType.RF), Connection(direction=IODirection.OUT, local_path=None, local_port='SIGOUTS/2', remote_path='/logical_signal_groups/q0/drive_line', remote_port='0', signal_type=IOSignalType.I), Connection(direction=IODirection.OUT, local_path=None, local_port='SIGOUTS/3', remote_path='/logical_signal_groups/q0/drive_line', remote_port='1', signal_type=IOSignalType.Q)], server_uid='zi_server', address='DEV8721', reference_clock_source=None)], physical_channel_groups={'device_hdawg': PhysicalChannelGroup(uid='device_hdawg', channels={'sigouts_0': PhysicalChannel(uid=device_hdawg/sigouts_0, type=PhysicalChannelType.RF_CHANNEL, name=sigouts_0, path=/physical_channel_groups/device_hdawg/sigouts_0, calibration=None), 'sigouts_1': PhysicalChannel(uid=device_hdawg/sigouts_1, type=PhysicalChannelType.RF_CHANNEL, name=sigouts_1, path=/physical_channel_groups/device_hdawg/sigouts_1, calibration=None), 'sigouts_2_3': PhysicalChannel(uid=device_hdawg/sigouts_2_3, type=PhysicalChannelType.IQ_CHANNEL, name=sigouts_2_3, path=/physical_channel_groups/device_hdawg/sigouts_2_3, calibration=None)})}, logical_signal_groups={'q0': LogicalSignalGroup(uid='q0', logical_signals={'FG2_line': LogicalSignal(uid='q0/FG2_line', direction=IODirection.OUT, name='FG2_line', calibration=None, path='/logical_signal_groups/q0/FG2_line', physical_channel=PhysicalChannel(uid=device_hdawg/sigouts_0, type=PhysicalChannelType.RF_CHANNEL, name=sigouts_0, path=/physical_channel_groups/device_hdawg/sigouts_0, calibration=None)), 'FG4_line': LogicalSignal(uid='q0/FG4_line', direction=IODirection.OUT, name='FG4_line', calibration=None, path='/logical_signal_groups/q0/FG4_line', physical_channel=PhysicalChannel(uid=device_hdawg/sigouts_1, type=PhysicalChannelType.RF_CHANNEL, name=sigouts_1, path=/physical_channel_groups/device_hdawg/sigouts_1, calibration=None)), 'drive_line': LogicalSignal(uid='q0/drive_line', direction=IODirection.OUT, name='drive_line', calibration=None, path='/logical_signal_groups/q0/drive_line', physical_channel=PhysicalChannel(uid=device_hdawg/sigouts_2_3, type=PhysicalChannelType.IQ_CHANNEL, name=sigouts_2_3, path=/physical_channel_groups/device_hdawg/sigouts_2_3, calibration=None))})}), compiled_experiment=CompiledExperiment(device_setup=DeviceSetup(uid='ZI_HDAWG', servers={'zi_server': DataServer(uid='zi_server', api_level=6, host='127.0.0.1', leader_uid=None, port='8004')}, instruments=[HDAWG(uid='device_hdawg', interface='usb', connections=[Connection(direction=IODirection.OUT, local_path=None, local_port='SIGOUTS/0', remote_path='/logical_signal_groups/q0/FG2_line', remote_port='0', signal_type=IOSignalType.RF), Connection(direction=IODirection.OUT, local_path=None, local_port='SIGOUTS/1', remote_path='/logical_signal_groups/q0/FG4_line', remote_port='0', signal_type=IOSignalType.RF), Connection(direction=IODirection.OUT, local_path=None, local_port='SIGOUTS/2', remote_path='/logical_signal_groups/q0/drive_line', remote_port='0', signal_type=IOSignalType.I), Connection(direction=IODirection.OUT, local_path=None, local_port='SIGOUTS/3', remote_path='/logical_signal_groups/q0/drive_line', remote_port='1', signal_type=IOSignalType.Q)], server_uid='zi_server', address='DEV8721', reference_clock_source=None)], physical_channel_groups={'device_hdawg': PhysicalChannelGroup(uid='device_hdawg', channels={'sigouts_0': PhysicalChannel(uid=device_hdawg/sigouts_0, type=PhysicalChannelType.RF_CHANNEL, name=sigouts_0, path=/physical_channel_groups/device_hdawg/sigouts_0, calibration=None), 'sigouts_1': PhysicalChannel(uid=device_hdawg/sigouts_1, type=PhysicalChannelType.RF_CHANNEL, name=sigouts_1, path=/physical_channel_groups/device_hdawg/sigouts_1, calibration=None), 'sigouts_2_3': PhysicalChannel(uid=device_hdawg/sigouts_2_3, type=PhysicalChannelType.IQ_CHANNEL, name=sigouts_2_3, path=/physical_channel_groups/device_hdawg/sigouts_2_3, calibration=None)})}, logical_signal_groups={'q0': LogicalSignalGroup(uid='q0', logical_signals={'FG2_line': LogicalSignal(uid='q0/FG2_line', direction=IODirection.OUT, name='FG2_line', calibration=None, path='/logical_signal_groups/q0/FG2_line', physical_channel=PhysicalChannel(uid=device_hdawg/sigouts_0, type=PhysicalChannelType.RF_CHANNEL, name=sigouts_0, path=/physical_channel_groups/device_hdawg/sigouts_0, calibration=None)), 'FG4_line': LogicalSignal(uid='q0/FG4_line', direction=IODirection.OUT, name='FG4_line', calibration=None, path='/logical_signal_groups/q0/FG4_line', physical_channel=PhysicalChannel(uid=device_hdawg/sigouts_1, type=PhysicalChannelType.RF_CHANNEL, name=sigouts_1, path=/physical_channel_groups/device_hdawg/sigouts_1, calibration=None)), 'drive_line': LogicalSignal(uid='q0/drive_line', direction=IODirection.OUT, name='drive_line', calibration=None, path='/logical_signal_groups/q0/drive_line', physical_channel=PhysicalChannel(uid=device_hdawg/sigouts_2_3, type=PhysicalChannelType.IQ_CHANNEL, name=sigouts_2_3, path=/physical_channel_groups/device_hdawg/sigouts_2_3, calibration=None))})}), experiment=Experiment(uid='minimal_experiment', signals={'fg2': ExperimentSignal(uid='fg2', calibration=None, mapped_logical_signal_path='/logical_signal_groups/q0/FG2_line'), 'fg4': ExperimentSignal(uid='fg4', calibration=None, mapped_logical_signal_path='/logical_signal_groups/q0/FG4_line')}, version=DSLVersion.V3_0_0, epsilon=0.0, sections=[Section(uid='pulse', alignment=SectionAlignment.LEFT, execution_type=ExecutionType.NEAR_TIME, length=None, play_after=None, children=[PlayPulse(signal='fg2', pulse=PulseFunctional(function='const', uid='p6', amplitude=0.8, length=3e-07, pulse_parameters=None), amplitude=None, increment_oscillator_phase=None, phase=None, set_oscillator_phase=None, length=None, pulse_parameters=None, precompensation_clear=None, marker=None), PlayPulse(signal='fg4', pulse=PulseFunctional(function='const', uid='p6', amplitude=0.8, length=3e-07, pulse_parameters=None), amplitude=None, increment_oscillator_phase=None, phase=None, set_oscillator_phase=None, length=None, pulse_parameters=None, precompensation_clear=None, marker=None)], trigger={}, on_system_grid=False)]), recipe={'$schema': '../../interface/qccs/interface/schemas/recipe-schema-1_4_0.json', 'line_endings': 'unix', 'header': {'version': '1.4.0', 'unit': {'time': 's', 'frequency': 'Hz', 'phase': 'rad'}, 'epsilon': {'time': 1e-12}}, 'experiment': {'initializations': [{'device_uid': 'device_hdawg', 'config': {'repetitions': 1, 'holdoff': 0, 'dio_mode': 'hdawg_leader', 'reference_clock_source': 'internal'}, 'outputs': [{'channel': 0, 'enable': True, 'offset': 0.0, 'gains': {'diagonal': 1.0, 'off_diagonal': 0.0}, 'modulation': False}, {'channel': 1, 'enable': True, 'offset': 0.0, 'gains': {'diagonal': 1.0, 'off_diagonal': 0.0}, 'modulation': False}], 'awgs': [{'awg': 0, 'seqc': 'seq_device_hdawg_0.seqc', 'signal_type': 'single', 'qa_signal_id': None, 'command_table_match_offset': None, 'feedback_register': None}]}], 'oscillator_params': [], 'integrator_allocations': [], 'acquire_lengths': [], 'simultaneous_acquires': [], 'total_execution_time': 0.0}, 'devices': [{'device_uid': 'device_hdawg', 'driver': 'HDAWG'}]}, src=[{'filename': 'seq_device_hdawg_0.seqc', 'text': 'setDIO(0);\\nwait(2000000);\\nplayZero(512);\\nsetDIO(0xffffffff);\\nwaitDIOTrigger();\\nplayZero(48);\\nplayZero(32);\\nwaitWave();\\nresetOscPhase();\\nsetDIO(0);\\n'}], waves=[], wave_indices=[{'filename': 'seq_device_hdawg_0_waveindices.csv', 'value': {}}], command_tables=[], schedule={'event_list': [], 'section_graph': {}, 'section_info': {}, 'subsection_map': {}, 'section_signals_with_children': {}, 'sampling_rates': []}, experiment_dict={'$schema': '../../schemas/qccs-schema_2_5_0.json', 'metadata': {'version': '2.5.0', 'unit': {'time': 's', 'frequency': 'Hz', 'phase': 'rad'}, 'epsilon': {'time': 1e-12}, 'line_endings': 'unix'}, 'servers': [{'id': 'zi_server', 'host': '127.0.0.1', 'port': 8004, 'api_level': 6}], 'devices': [{'id': 'device_hdawg', 'serial': 'DEV8721', 'interface': 'usb', 'driver': 'hdawg', 'server': {'$ref': 'zi_server'}}], 'signals': [{'id': 'fg2', 'signal_type': 'single'}, {'id': 'fg4', 'signal_type': 'single'}], 'signal_connections': [{'signal': {'$ref': 'fg2'}, 'device': {'$ref': 'device_hdawg'}, 'connection': {'type': 'out', 'channels': [0]}}, {'signal': {'$ref': 'fg4'}, 'device': {'$ref': 'device_hdawg'}, 'connection': {'type': 'out', 'channels': [1]}}], 'pulses': [{'id': 'p6', 'function': 'const', 'length': 3e-07, 'amplitude': 0.8}], 'sections': [{'id': 'pulse', 'align': 'left', 'signals_list': [{'signal': {'$ref': 'fg2'}, 'pulses_list': [{'pulse': {'$ref': 'p6'}}]}, {'signal': {'$ref': 'fg4'}, 'pulses_list': [{'pulse': {'$ref': 'p6'}}]}]}], 'experiment': {'sections_list': [{'$ref': 'pulse'}], 'signals_list': [{'$ref': 'fg2'}, {'$ref': 'fg4'}]}}, pulse_map={}), acquired_results={}, user_func_results={}, execution_errors=[])"
      ]
     },
     "execution_count": 16,
     "metadata": {},
     "output_type": "execute_result"
    }
   ],
   "source": [
    "# run experiment\n",
    "my_session.run(exp)"
   ]
  },
  {
   "cell_type": "code",
   "execution_count": null,
   "metadata": {},
   "outputs": [],
   "source": []
  }
 ],
 "metadata": {
  "kernelspec": {
   "display_name": "base",
   "language": "python",
   "name": "python3"
  },
  "language_info": {
   "codemirror_mode": {
    "name": "ipython",
    "version": 3
   },
   "file_extension": ".py",
   "mimetype": "text/x-python",
   "name": "python",
   "nbconvert_exporter": "python",
   "pygments_lexer": "ipython3",
   "version": "3.7.4"
  },
  "orig_nbformat": 4
 },
 "nbformat": 4,
 "nbformat_minor": 2
}
