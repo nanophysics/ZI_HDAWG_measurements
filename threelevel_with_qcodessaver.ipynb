{
 "cells": [
  {
   "cell_type": "code",
   "execution_count": 1,
   "metadata": {},
   "outputs": [
    {
     "name": "stdout",
     "output_type": "stream",
     "text": [
      "Logging hadn't been started.\n",
      "Activating auto-logging. Current session state plus future input saved.\n",
      "Filename       : C:\\Users\\B15measure2\\.qcodes\\logs\\command_history.log\n",
      "Mode           : append\n",
      "Output logging : True\n",
      "Raw input log  : False\n",
      "Timestamping   : True\n",
      "State          : active\n",
      "Qcodes Logfile : C:\\Users\\B15measure2\\.qcodes\\logs\\230824-7608-qcodes.log\n",
      "2023.08.24 11:46:18.808 laboneq.controller.laboneq_logging INFO   Logging initialized from [Default inline config in laboneq.controller.laboneq_logging] logdir is c:\\Users\\B15measure2\\ZI_HDAWG_measurements\\laboneq_output\\log\n",
      "2023.08.24 11:46:18.810 laboneq.controller.controller  INFO   VERSION: laboneq 2.11.0\n",
      "2023.08.24 11:46:18.812 laboneq.controller.devices.device_collection INFO   Connecting to data server at 127.0.0.1:8004\n",
      "2023.08.24 11:46:19.084 laboneq.controller.communication INFO   Connected to Zurich Instruments LabOne Data Server version 23.02 at 127.0.0.1:8004\n",
      "2023.08.24 11:46:19.402 laboneq.controller.devices.device_collection INFO   Configuring the device setup\n",
      "2023.08.24 11:46:19.604 laboneq.controller.devices.device_collection INFO   The device setup is configured\n"
     ]
    }
   ],
   "source": [
    "# IPython Config\n",
    "%config IPCompleter.greedy=True \n",
    "# Standard library imports\n",
    "import os\n",
    "import time\n",
    "import ctypes\n",
    "import configparser\n",
    "\n",
    "# Third-party imports\n",
    "import numpy as np\n",
    "import matplotlib.pyplot as plt\n",
    "import zhinst.core\n",
    "\n",
    "# Qcodes imports\n",
    "import qcodes as qc\n",
    "from qcodes.dataset import Measurement, do1d, initialise_or_create_database_at, load_or_create_experiment, plot_dataset\n",
    "from qcodes.station import Station\n",
    "from qcodes.tests.instrument_mocks import DummyInstrument, DummyInstrumentWithMeasurement\n",
    "\n",
    "# Picosdk imports\n",
    "from picosdk.ps5000a import ps5000a as ps\n",
    "from picosdk.functions import adc2mV, assert_pico_ok\n",
    "import picoscope_module as pm\n",
    "\n",
    "# Laboneq and related imports\n",
    "import laboneq\n",
    "from laboneq.simple import *  # <-- Import specific functionalities if wildcard import is avoided\n",
    "from laboneq.pulse_sheet_viewer.interactive_psv import interactive_psv\n",
    "\n",
    "# Other imports\n",
    "import helpers\n",
    "import IPython.lib.backgroundjobs as bg\n",
    "# from plottr.apps import inspectr\n",
    "\n",
    "DO_EMULATION = False # run in emulation mode by default \n",
    "\n",
    "# Load config file\n",
    "config = configparser.ConfigParser()\n",
    "config.read('config230823.ini')\n",
    "with open(config['DataPaths']['descriptor_path'], 'r') as file:\n",
    "    descriptor = file.read()\n",
    "\n",
    "# Labber related parameters\n",
    "qc.config.add('stabilitymap', config['DataPaths']['labber_data_path'], value_type='string', description='Name of the stability diagram in labber', default=None)\n",
    "\n",
    "# Setting up the qcodes configuration\n",
    "qc.logger.start_all_logging()\n",
    "gate_instr = DummyInstrument('gate_instr', gates=['gate1', 'gate2'])\n",
    "data_acq_mock = DummyInstrumentWithMeasurement(name='data_acq_mock', setter_instr=gate_instr)\n",
    "station = qc.Station(data_acq_mock, gate_instr)\n",
    "\n",
    "# Setting up a database\n",
    "db_file_path = os.path.join(config['DataPaths']['data_save_path'],'savingtest.db')\n",
    "initialise_or_create_database_at(db_file_path)\n",
    "exp = load_or_create_experiment(\n",
    "    experiment_name=config['DataPaths']['experiment_name'],\n",
    "    sample_name=config['DataPaths']['sample_name']\n",
    ")\n",
    "\n",
    "# create and connect to HDAWG session\n",
    "device_setup = DeviceSetup.from_descriptor(descriptor,server_host=\"127.0.0.1\",server_port=\"8004\", setup_name=\"ZI_HDAWG\")\n",
    "session = Session(device_setup=device_setup)\n",
    "session.connect(do_emulation=DO_EMULATION)\n",
    "if not session.connection_state.emulated:\n",
    "    instrument_serial = device_setup.instrument_by_uid(\"device_hdawg\").address\n",
    "    device = session.devices[instrument_serial]\n",
    "    device.triggers.out[2].delay(23.9e-9)\n",
    "\n",
    "#picoscope \n",
    "params = {key: float(value) for key, value in config['PicoscopeParameters'].items()}\n",
    "pico_sampling_rate = (params['timebase'] - 3) / 62500000\n",
    "preTriggerSamples=int(np.ceil(params['pretriggersamples']))\n",
    "postTriggerSamples = int(np.ceil(params['posttriggersamples_val'] / pico_sampling_rate))\n",
    "maxSamples = preTriggerSamples + postTriggerSamples\n",
    "\n",
    "chandle, status = pm.initialize_picoscope()\n",
    "status, chARange, chBRange = pm.setup_channels(chandle,status)\n",
    "status,maxADC = pm.setup_trigger(chandle, chARange, chBRange, params['triggerlevel'],status)"
   ]
  },
  {
   "cell_type": "code",
   "execution_count": 2,
   "metadata": {},
   "outputs": [
    {
     "name": "stdout",
     "output_type": "stream",
     "text": [
      "Starting experimental run with id: 7. \n",
      "Loaded exp\n",
      "2023.08.24 11:46:22.614 laboneq.compiler.workflow.compiler INFO   Starting LabOne Q Compiler run...\n",
      "2023.08.24 11:46:22.634 laboneq.compiler.scheduler.scheduler INFO   Schedule completed\n",
      "2023.08.24 11:46:37.128 laboneq.compiler.workflow.compiler INFO   Total seqC lines generated: 40\n",
      "2023.08.24 11:46:37.132 laboneq.compiler.workflow.compiler INFO   Total sample points generated: 192\n",
      "2023.08.24 11:46:37.134 laboneq.compiler.workflow.compiler INFO   Finished LabOne Q Compiler run.\n",
      "2023.08.24 11:46:37.432 laboneq.controller.devices.device_collection INFO   Configuring the device setup\n",
      "2023.08.24 11:46:37.624 laboneq.controller.devices.device_collection INFO   The device setup is configured\n",
      "2023.08.24 11:46:37.955 laboneq.controller.controller  INFO   Starting near-time execution...\n",
      "2023.08.24 11:46:39.798 laboneq.controller.controller  INFO   Finished near-time execution.\n",
      "Running exp finished\n",
      "2023.08.24 11:46:39.936 laboneq.pulse_sheet_viewer.pulse_sheet_viewer INFO   Writing html file to E:\\Data\\Jonas\\Jasmine\\laboneq_output_2023-08-24-11-46-39.html\n",
      "Loaded exp\n",
      "2023.08.24 11:46:40.125 laboneq.compiler.workflow.compiler INFO   Starting LabOne Q Compiler run...\n",
      "2023.08.24 11:46:40.130 laboneq.compiler.scheduler.scheduler INFO   Schedule completed\n",
      "2023.08.24 11:46:53.397 laboneq.compiler.workflow.compiler INFO   Total seqC lines generated: 40\n",
      "2023.08.24 11:46:53.399 laboneq.compiler.workflow.compiler INFO   Total sample points generated: 192\n",
      "2023.08.24 11:46:53.400 laboneq.compiler.workflow.compiler INFO   Finished LabOne Q Compiler run.\n",
      "2023.08.24 11:46:53.691 laboneq.controller.devices.device_collection INFO   Configuring the device setup\n",
      "2023.08.24 11:46:53.935 laboneq.controller.devices.device_collection INFO   The device setup is configured\n",
      "2023.08.24 11:46:54.258 laboneq.controller.controller  INFO   Starting near-time execution...\n",
      "2023.08.24 11:46:55.968 laboneq.controller.controller  INFO   Finished near-time execution.\n",
      "Running exp finished\n",
      "Loaded exp\n",
      "2023.08.24 11:46:56.291 laboneq.compiler.workflow.compiler INFO   Starting LabOne Q Compiler run...\n",
      "2023.08.24 11:46:56.295 laboneq.compiler.scheduler.scheduler INFO   Schedule completed\n",
      "2023.08.24 11:47:05.438 laboneq.compiler.workflow.compiler INFO   Total seqC lines generated: 37\n",
      "2023.08.24 11:47:05.442 laboneq.compiler.workflow.compiler INFO   Total sample points generated: 128\n",
      "2023.08.24 11:47:05.445 laboneq.compiler.workflow.compiler INFO   Finished LabOne Q Compiler run.\n",
      "2023.08.24 11:47:05.873 laboneq.controller.devices.device_collection INFO   Configuring the device setup\n",
      "2023.08.24 11:47:06.054 laboneq.controller.devices.device_collection INFO   The device setup is configured\n",
      "2023.08.24 11:47:06.335 laboneq.controller.controller  INFO   Starting near-time execution...\n",
      "2023.08.24 11:47:08.019 laboneq.controller.controller  INFO   Finished near-time execution.\n",
      "Running exp finished\n",
      "Loaded exp\n",
      "2023.08.24 11:47:08.409 laboneq.compiler.workflow.compiler INFO   Starting LabOne Q Compiler run...\n",
      "2023.08.24 11:47:08.413 laboneq.compiler.scheduler.scheduler INFO   Schedule completed\n",
      "2023.08.24 11:47:17.631 laboneq.compiler.workflow.compiler INFO   Total seqC lines generated: 37\n",
      "2023.08.24 11:47:17.635 laboneq.compiler.workflow.compiler INFO   Total sample points generated: 128\n",
      "2023.08.24 11:47:17.636 laboneq.compiler.workflow.compiler INFO   Finished LabOne Q Compiler run.\n",
      "2023.08.24 11:47:17.986 laboneq.controller.devices.device_collection INFO   Configuring the device setup\n",
      "2023.08.24 11:47:18.163 laboneq.controller.devices.device_collection INFO   The device setup is configured\n",
      "2023.08.24 11:47:18.454 laboneq.controller.controller  INFO   Starting near-time execution...\n",
      "2023.08.24 11:47:20.162 laboneq.controller.controller  INFO   Finished near-time execution.\n",
      "Running exp finished\n"
     ]
    }
   ],
   "source": [
    "# 5. Setting up measurements\n",
    "meas = Measurement(exp=exp)\n",
    "meas.register_parameter(gate_instr.gate1)\n",
    "meas.register_parameter(gate_instr.gate2)\n",
    "meas.register_parameter(data_acq_mock.v1, setpoints=(gate_instr.gate1,gate_instr.gate2), paramtype='array')\n",
    "meas.write_period = 0.1\n",
    "\n",
    "#defining parameters \n",
    "times_map = {\n",
    "    'pulse_time': 10e-3, \n",
    "    'dead_time': 10e-3, \n",
    "    'trigger_time': 1e-3\n",
    "}\n",
    "\n",
    "points_map={\n",
    "    'initial_point': [0.0, 0.0],\n",
    "    'anchor_point': [-0.0, 0.0],\n",
    "    'load_point':    [0.0, 0.0],\n",
    "    'readout_point': [0.0, 0.0], \n",
    "    'control_point': [0.0, 0.0],}\n",
    "\n",
    "qc.config.add('points_map', points_map, value_type='object', description='Mapping of points', default=None)\n",
    "qc.config.add('times_map', points_map, value_type='object', description='Mapping of times', default=None)\n",
    "\n",
    "compress_level_pulse=pulse_library.const(uid=\"compress_level\",length=times_map['pulse_time'],amplitude=1,can_compress=True)\n",
    "\n",
    "# assign amplitude to received variable\n",
    "NUM_REP = 50\n",
    "\n",
    "x_p = np.linspace(0.1, -0.1, 2)\n",
    "y_p = np.linspace(0.1, -0.1, 2)\n",
    "\n",
    "x_mesh, y_mesh = np.meshgrid(x_p, y_p)\n",
    "tensor_product = np.column_stack((x_mesh.ravel(), y_mesh.ravel()))\n",
    "\n",
    "#define pulse shapes\n",
    "#@pulse_library.register_pulse_functional\n",
    "#def ramp(x,start=0,stop=1,**_):\n",
    "#    pulse=start+ (stop-start)*(x+1)/2\n",
    "#    return pulse\n",
    "\n",
    "# 6. Running the measurements\n",
    "with meas.run() as datasaver:\n",
    "    for received_variable in range(len(x_p)*len(y_p)):\n",
    "        read_amplitude=tensor_product[received_variable]\n",
    "        \n",
    "        # Experiment\n",
    "        exp = Experiment(\n",
    "            \"Pulse Experiment\",\n",
    "            signals=[\n",
    "                ExperimentSignal(\"gate1\"),\n",
    "                ExperimentSignal(\"gate2\"),\n",
    "            ],\n",
    "        )\n",
    "\n",
    "        with exp.acquire_loop_rt(\n",
    "            uid=(\"pulse\"), count=NUM_REP, averaging_mode=AveragingMode.SEQUENTIAL\n",
    "        ):\n",
    "            with exp.section(\n",
    "                uid=(\"unload\"),\n",
    "                length=times_map['pulse_time'],\n",
    "                trigger={\"gate1\":{\"state\":1}},\n",
    "                alignment=SectionAlignment.LEFT,\n",
    "            ):\n",
    "                exp.play(signal=\"gate1\",pulse=compress_level_pulse,amplitude=-0.1)\n",
    "                exp.play(signal=\"gate2\",pulse=compress_level_pulse,amplitude=-0.1)\n",
    "            with exp.section(\n",
    "                uid=(\"load\"),\n",
    "                length=times_map['pulse_time'],\n",
    "                alignment=SectionAlignment.LEFT,\n",
    "            ):\n",
    "                exp.play(signal=\"gate1\",pulse=compress_level_pulse,amplitude=0.1)\n",
    "                exp.play(signal=\"gate2\",pulse=compress_level_pulse,amplitude=-0.1)\n",
    "            with exp.section(\n",
    "                uid=(\"measure\"),\n",
    "                length=times_map['pulse_time'],\n",
    "                alignment=SectionAlignment.LEFT, \n",
    "            ): \n",
    "                exp.play(signal=\"gate1\",pulse=compress_level_pulse,amplitude=read_amplitude[0])\n",
    "                exp.play(signal=\"gate2\",pulse=compress_level_pulse,amplitude=read_amplitude[1])\n",
    "                \n",
    "\n",
    "\n",
    "        #shortcut to the logical signal group q0\n",
    "        lsg = device_setup.logical_signal_groups[\"q0\"].logical_signals\n",
    "\n",
    "        #define signal map\n",
    "        map_signals ={\n",
    "            \"gate1\" : lsg[\"fg4_line\"],\n",
    "            \"gate2\" : lsg[\"fg6_line\"]\n",
    "        }\n",
    "\n",
    "        noOfCaptures = NUM_REP\n",
    "            \n",
    "        status,timeIntervalns = pm.capture_rapid_data_block(chandle, preTriggerSamples, postTriggerSamples, int(params['timebase']), maxSamples,noOfCaptures)\n",
    "\n",
    "        # set experiment calibration and signal map\n",
    "        exp.set_signal_map(map_signals)\n",
    "            \n",
    "        print(\"Loaded exp\")\n",
    "        session.run(exp)\n",
    "        print(\"Running exp finished\")\n",
    "        \n",
    "        if received_variable == 0:\n",
    "            compiled_exp= session.compiled_experiment\n",
    "            laboneq_data_path=os.path.join(config['DataPaths']['data_save_path'], 'laboneq_output', config['DataPaths']['experiment_name'])\n",
    "            pulse_name = show_pulse_sheet(laboneq_data_path, compiled_exp)\n",
    "            qc.config.add('pulsefile', pulse_name.path, value_type='string', description='laboneq pulse path', default=None)\n",
    "\n",
    "        # # Check for data collection to finish using ps5000aIsReady\n",
    "        status = pm.check_ready(chandle, status)\n",
    "\n",
    "        source = ps.PS5000A_CHANNEL[\"PS5000A_CHANNEL_B\"]\n",
    "        buffersMax, buffersMin = pm.create_rapid_buffer(chandle, source, maxSamples, noOfCaptures)\n",
    "        pm.getValuesRapid(chandle,maxSamples,noOfCaptures)\n",
    "\n",
    "        # # Create time data\n",
    "        time_array = pm.create_time_data(maxSamples, timeIntervalns)\n",
    "\n",
    "        for i in range(noOfCaptures):\n",
    "            datasaver.add_result((gate_instr.gate1, read_amplitude[0]),(gate_instr.gate2, read_amplitude[1]), (data_acq_mock.v1, adc2mV(buffersMax[i], chARange, maxADC)))\n",
    "\n",
    "        dataset = datasaver.dataset\n",
    "        # Stop the scope\n",
    "        status = pm.stop_picoscope(chandle,status)\n",
    "# Close unit Disconnect the scope "
   ]
  },
  {
   "cell_type": "code",
   "execution_count": 12,
   "metadata": {},
   "outputs": [
    {
     "data": {
      "text/plain": [
       "'E:\\\\Data\\\\Jonas\\\\Jasmine\\\\laboneq_output\\\\\\\\Three_level'"
      ]
     },
     "execution_count": 12,
     "metadata": {},
     "output_type": "execute_result"
    }
   ],
   "source": [
    "config['DataPaths']['data_save_path']+r'laboneq_output\\\\'+config['DataPaths']['experiment_name']"
   ]
  },
  {
   "cell_type": "code",
   "execution_count": null,
   "metadata": {},
   "outputs": [],
   "source": [
    "# How to get data example\n",
    "dataset.get_parameter_data()"
   ]
  },
  {
   "cell_type": "code",
   "execution_count": null,
   "metadata": {},
   "outputs": [],
   "source": [
    "interactive_psv(compiled_exp)\n",
    "pm.close_picoscope(chandle,status)"
   ]
  },
  {
   "cell_type": "code",
   "execution_count": 3,
   "metadata": {},
   "outputs": [],
   "source": [
    "session.compiled_experiment"
   ]
  },
  {
   "cell_type": "code",
   "execution_count": 6,
   "metadata": {},
   "outputs": [
    {
     "data": {
      "text/html": [
       "<a href='E:\\Data\\Jonas\\Jasmine\\laboneq_output_2023-08-24-11-40-40.html' target='_blank'>E:\\Data\\Jonas\\Jasmine\\laboneq_output_2023-08-24-11-40-40.html</a><br>"
      ],
      "text/plain": [
       "E:\\Data\\Jonas\\Jasmine\\laboneq_output_2023-08-24-11-40-40.html"
      ]
     },
     "metadata": {},
     "output_type": "display_data"
    }
   ],
   "source": [
    "display(pulse_name)\n",
    "# qc.config.add('pulsemap', pulse_name, value_type='object', description='laboneq pulse path', default=None)"
   ]
  },
  {
   "cell_type": "code",
   "execution_count": 8,
   "metadata": {},
   "outputs": [
    {
     "data": {
      "text/plain": [
       "'E:\\\\Data\\\\Jonas\\\\Jasmine\\\\laboneq_output_2023-08-24-11-40-40.html'"
      ]
     },
     "execution_count": 8,
     "metadata": {},
     "output_type": "execute_result"
    }
   ],
   "source": []
  },
  {
   "cell_type": "code",
   "execution_count": null,
   "metadata": {},
   "outputs": [],
   "source": []
  }
 ],
 "metadata": {
  "kernelspec": {
   "display_name": "base",
   "language": "python",
   "name": "python3"
  },
  "language_info": {
   "codemirror_mode": {
    "name": "ipython",
    "version": 3
   },
   "file_extension": ".py",
   "mimetype": "text/x-python",
   "name": "python",
   "nbconvert_exporter": "python",
   "pygments_lexer": "ipython3",
   "version": "3.10.12"
  },
  "orig_nbformat": 4
 },
 "nbformat": 4,
 "nbformat_minor": 2
}
